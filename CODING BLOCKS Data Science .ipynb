{
 "cells": [
  {
   "cell_type": "markdown",
   "metadata": {},
   "source": [
    "## WEB SCRAPPING - DATA SCIENCE WORKSHOP\n",
    "## 4/07/20"
   ]
  },
  {
   "cell_type": "code",
   "execution_count": 200,
   "metadata": {},
   "outputs": [],
   "source": [
    "file = open(\"abc.txt\",\"w\")"
   ]
  },
  {
   "cell_type": "code",
   "execution_count": 201,
   "metadata": {},
   "outputs": [],
   "source": [
    "content = \"My name is Ankita\""
   ]
  },
  {
   "cell_type": "code",
   "execution_count": 202,
   "metadata": {},
   "outputs": [
    {
     "data": {
      "text/plain": [
       "17"
      ]
     },
     "execution_count": 202,
     "metadata": {},
     "output_type": "execute_result"
    }
   ],
   "source": [
    "file.write(content)"
   ]
  },
  {
   "cell_type": "code",
   "execution_count": 203,
   "metadata": {},
   "outputs": [],
   "source": [
    "file.close()"
   ]
  },
  {
   "cell_type": "code",
   "execution_count": 204,
   "metadata": {},
   "outputs": [],
   "source": [
    "file1 = open(\"abc.txt\",\"w\")"
   ]
  },
  {
   "cell_type": "code",
   "execution_count": 205,
   "metadata": {},
   "outputs": [],
   "source": [
    "content1 = \"This is updated file !!\""
   ]
  },
  {
   "cell_type": "code",
   "execution_count": 206,
   "metadata": {},
   "outputs": [
    {
     "data": {
      "text/plain": [
       "23"
      ]
     },
     "execution_count": 206,
     "metadata": {},
     "output_type": "execute_result"
    }
   ],
   "source": [
    "file1.write(content1)"
   ]
  },
  {
   "cell_type": "code",
   "execution_count": 207,
   "metadata": {},
   "outputs": [],
   "source": [
    "file1.close()"
   ]
  },
  {
   "cell_type": "markdown",
   "metadata": {},
   "source": [
    " overwriting takes place , whenever file is opened with write text mode it starts writing from starting that is previous data is lost . Therefore append is prefereed after first write."
   ]
  },
  {
   "cell_type": "code",
   "execution_count": 208,
   "metadata": {},
   "outputs": [],
   "source": [
    "file2 = open(\"abc.txt\",\"a\")"
   ]
  },
  {
   "cell_type": "code",
   "execution_count": 209,
   "metadata": {},
   "outputs": [],
   "source": [
    "content2 = \"This is a data science workshop\""
   ]
  },
  {
   "cell_type": "code",
   "execution_count": 210,
   "metadata": {},
   "outputs": [
    {
     "data": {
      "text/plain": [
       "31"
      ]
     },
     "execution_count": 210,
     "metadata": {},
     "output_type": "execute_result"
    }
   ],
   "source": [
    "file2.write(content2)"
   ]
  },
  {
   "cell_type": "code",
   "execution_count": 211,
   "metadata": {},
   "outputs": [],
   "source": [
    "file2.close()"
   ]
  },
  {
   "cell_type": "code",
   "execution_count": 212,
   "metadata": {},
   "outputs": [
    {
     "data": {
      "text/plain": [
       "True"
      ]
     },
     "execution_count": 212,
     "metadata": {},
     "output_type": "execute_result"
    }
   ],
   "source": [
    "file2.closed"
   ]
  },
  {
   "cell_type": "markdown",
   "metadata": {},
   "source": [
    "## BETTER WAY"
   ]
  },
  {
   "cell_type": "code",
   "execution_count": 213,
   "metadata": {},
   "outputs": [],
   "source": [
    "# with open function will close file automatically \n",
    "# and no exclusive closing function is required\n",
    "with open(\"best_file.txt\",\"w\") as file:\n",
    "    file.write(\"Hey I am back again !!\")"
   ]
  },
  {
   "cell_type": "code",
   "execution_count": 214,
   "metadata": {},
   "outputs": [
    {
     "data": {
      "text/plain": [
       "True"
      ]
     },
     "execution_count": 214,
     "metadata": {},
     "output_type": "execute_result"
    }
   ],
   "source": [
    "file.closed"
   ]
  },
  {
   "cell_type": "code",
   "execution_count": 215,
   "metadata": {},
   "outputs": [
    {
     "name": "stdout",
     "output_type": "stream",
     "text": [
      "Hey I am back again !!\n"
     ]
    }
   ],
   "source": [
    "with open(\"best_file.txt\",\"r\") as chacha:\n",
    "    print(chacha.read())"
   ]
  },
  {
   "cell_type": "markdown",
   "metadata": {},
   "source": [
    "## REQUESTS"
   ]
  },
  {
   "cell_type": "code",
   "execution_count": 216,
   "metadata": {},
   "outputs": [
    {
     "name": "stdout",
     "output_type": "stream",
     "text": [
      "Requirement already satisfied: requests in c:\\users\\ankita\\anaconda3\\lib\\site-packages (2.22.0)\n",
      "Requirement already satisfied: chardet<3.1.0,>=3.0.2 in c:\\users\\ankita\\anaconda3\\lib\\site-packages (from requests) (3.0.4)\n",
      "Requirement already satisfied: idna<2.9,>=2.5 in c:\\users\\ankita\\anaconda3\\lib\\site-packages (from requests) (2.8)\n",
      "Requirement already satisfied: urllib3!=1.25.0,!=1.25.1,<1.26,>=1.21.1 in c:\\users\\ankita\\anaconda3\\lib\\site-packages (from requests) (1.24.2)\n",
      "Requirement already satisfied: certifi>=2017.4.17 in c:\\users\\ankita\\anaconda3\\lib\\site-packages (from requests) (2019.6.16)\n",
      "Note: you may need to restart the kernel to use updated packages.\n"
     ]
    }
   ],
   "source": [
    " pip install requests"
   ]
  },
  {
   "cell_type": "code",
   "execution_count": 217,
   "metadata": {},
   "outputs": [],
   "source": [
    "import requests"
   ]
  },
  {
   "cell_type": "code",
   "execution_count": 218,
   "metadata": {},
   "outputs": [],
   "source": [
    "url = \"https://images.unsplash.com/photo-1471899236350-e3016bf1e69e?ixlib=rb-1.2.1&ixid=eyJhcHBfaWQiOjEyMDd9&auto=format&fit=crop&w=1351&q=80\""
   ]
  },
  {
   "cell_type": "code",
   "execution_count": 219,
   "metadata": {},
   "outputs": [],
   "source": [
    "data = requests.get(url)"
   ]
  },
  {
   "cell_type": "code",
   "execution_count": 220,
   "metadata": {},
   "outputs": [],
   "source": [
    "content = data.content"
   ]
  },
  {
   "cell_type": "code",
   "execution_count": 221,
   "metadata": {},
   "outputs": [
    {
     "data": {
      "text/plain": [
       "200"
      ]
     },
     "execution_count": 221,
     "metadata": {},
     "output_type": "execute_result"
    }
   ],
   "source": [
    "data.status_code"
   ]
  },
  {
   "cell_type": "code",
   "execution_count": 222,
   "metadata": {},
   "outputs": [],
   "source": [
    "with open(\"flower.jpg\",\"wb\") as chacha:\n",
    "    chacha.write(content)"
   ]
  },
  {
   "cell_type": "markdown",
   "metadata": {},
   "source": [
    "inorder to scrap text filw from web"
   ]
  },
  {
   "cell_type": "code",
   "execution_count": 223,
   "metadata": {},
   "outputs": [],
   "source": [
    "url2 = (\"https://raw.githubusercontent.com/coding-blocks-archives/ML-Noida-2019-June-Two/master/datasets/speeches/speech.txt\")"
   ]
  },
  {
   "cell_type": "code",
   "execution_count": 224,
   "metadata": {},
   "outputs": [],
   "source": [
    "data = requests.get(url2)"
   ]
  },
  {
   "cell_type": "code",
   "execution_count": 225,
   "metadata": {},
   "outputs": [],
   "source": [
    "speech = data.text"
   ]
  },
  {
   "cell_type": "code",
   "execution_count": 226,
   "metadata": {},
   "outputs": [],
   "source": [
    "with open(\"PM.txt\",\"wb\") as f:\n",
    "    f.write(data.content)"
   ]
  },
  {
   "cell_type": "markdown",
   "metadata": {},
   "source": [
    "## API"
   ]
  },
  {
   "cell_type": "code",
   "execution_count": 227,
   "metadata": {},
   "outputs": [],
   "source": [
    "import time\n",
    "time.sleep(2)"
   ]
  },
  {
   "cell_type": "code",
   "execution_count": 228,
   "metadata": {},
   "outputs": [],
   "source": [
    "fb_url = (\"http://graph.facebook.com/{}/picture?type=large\").format(i)"
   ]
  },
  {
   "cell_type": "code",
   "execution_count": 229,
   "metadata": {},
   "outputs": [],
   "source": [
    "data = requests.get(fb_url)"
   ]
  },
  {
   "cell_type": "code",
   "execution_count": 230,
   "metadata": {},
   "outputs": [],
   "source": [
    "with open(\"profilepic.jpg\",\"wb\") as f:\n",
    "    f.write(data.content)"
   ]
  },
  {
   "cell_type": "code",
   "execution_count": 231,
   "metadata": {},
   "outputs": [],
   "source": [
    "for i in range(4,21):\n",
    "   # print(fb_url.format(i))\n",
    "    data = requests.get(fb_url.format(i))\n",
    "    with open(\"{}.jpg\".format(i),\"wb\") as f:\n",
    "        f.write(data.content)"
   ]
  },
  {
   "cell_type": "code",
   "execution_count": 232,
   "metadata": {},
   "outputs": [
    {
     "name": "stdout",
     "output_type": "stream",
     "text": [
      "4\n",
      "5\n",
      "6\n",
      "7\n",
      "8\n",
      "9\n",
      "10\n",
      "11\n",
      "12\n",
      "13\n",
      "14\n",
      "15\n",
      "16\n",
      "17\n",
      "18\n",
      "19\n",
      "20\n"
     ]
    }
   ],
   "source": [
    "for i in range(4,21):\n",
    "    print(i)\n",
    "    time.sleep(2)\n",
    "# here time.sleep brings a delay which is done inorder to \n",
    "# skip from the terror of being blocked by that site"
   ]
  },
  {
   "cell_type": "markdown",
   "metadata": {},
   "source": [
    "## Beautiful Soup"
   ]
  },
  {
   "cell_type": "markdown",
   "metadata": {},
   "source": [
    "we can parse element by element"
   ]
  },
  {
   "cell_type": "code",
   "execution_count": 233,
   "metadata": {},
   "outputs": [
    {
     "name": "stdout",
     "output_type": "stream",
     "text": [
      "Requirement already satisfied: beautifulsoup4 in c:\\users\\ankita\\anaconda3\\lib\\site-packages (4.7.1)\n",
      "Requirement already satisfied: soupsieve>=1.2 in c:\\users\\ankita\\anaconda3\\lib\\site-packages (from beautifulsoup4) (1.8)\n",
      "Note: you may need to restart the kernel to use updated packages.\n"
     ]
    }
   ],
   "source": [
    "pip install beautifulsoup4"
   ]
  },
  {
   "cell_type": "code",
   "execution_count": 234,
   "metadata": {},
   "outputs": [],
   "source": [
    "from bs4 import BeautifulSoup\n",
    "import requests"
   ]
  },
  {
   "cell_type": "code",
   "execution_count": 235,
   "metadata": {},
   "outputs": [],
   "source": [
    "url = \"https://www.passiton.com/inspirational-quotes?page=2\""
   ]
  },
  {
   "cell_type": "code",
   "execution_count": 236,
   "metadata": {},
   "outputs": [],
   "source": [
    "data = requests.get(url)"
   ]
  },
  {
   "cell_type": "code",
   "execution_count": 237,
   "metadata": {},
   "outputs": [],
   "source": [
    "soup = BeautifulSoup(data.text)"
   ]
  },
  {
   "cell_type": "code",
   "execution_count": 238,
   "metadata": {},
   "outputs": [
    {
     "data": {
      "text/plain": [
       "<!DOCTYPE html>\n",
       "<html class=\"no-js\" dir=\"ltr\" lang=\"en-US\">\n",
       "<head>\n",
       "<title>Inspirational Quotes - Motivational Quotes - Leadership Quotes | Page 2 | PassItOn.com</title>\n",
       "<meta charset=\"utf-8\"/>\n",
       "<meta content=\"text/html; charset=utf-8\" http-equiv=\"content-type\"/>\n",
       "<meta content=\"IE=edge\" http-equiv=\"X-UA-Compatible\"/>\n",
       "<meta content=\"width=device-width,initial-scale=1.0,maximum-scale=1\" name=\"viewport\"/>\n",
       "<meta content=\"The Foundation for a Better Life | Pass It On.com\" name=\"description\"/>\n",
       "<link href=\"/apple-touch-icon.png\" rel=\"apple-touch-icon\" sizes=\"180x180\"/>\n",
       "<link href=\"/favicon-32x32.png\" rel=\"icon\" sizes=\"32x32\" type=\"image/png\"/>\n",
       "<link href=\"/favicon-16x16.png\" rel=\"icon\" sizes=\"16x16\" type=\"image/png\"/>\n",
       "<link href=\"/site.webmanifest\" rel=\"manifest\"/>\n",
       "<link color=\"#c8102e\" href=\"/safari-pinned-tab.svg\" rel=\"mask-icon\"/>\n",
       "<meta content=\"#c8102e\" name=\"msapplication-TileColor\"/>\n",
       "<meta content=\"#ffffff\" name=\"theme-color\"/>\n",
       "<link crossorigin=\"anonymous\" href=\"https://stackpath.bootstrapcdn.com/bootstrap/4.3.1/css/bootstrap.min.css\" integrity=\"sha384-ggOyR0iXCbMQv3Xipma34MD+dH/1fQ784/j6cY/iJTQUOhcWr7x9JvoRxT2MZw1T\" rel=\"stylesheet\"/>\n",
       "<link href=\"/assets/application-e2dff94212c11572ecbf79418dd0933d.css\" media=\"all\" rel=\"stylesheet\"/>\n",
       "<meta content=\"authenticity_token\" name=\"csrf-param\"/>\n",
       "<meta content=\"XMhXojbI0KBEk1nIZZSEffoFyhIalJUACOVHtK7cHV/pv5DQ1t1Bg8+ExKqj4hfersYFyhghwXoekTTYgvnZDw==\" name=\"csrf-token\"/>\n",
       "<!-- Global site tag (gtag.js) - Google Analytics -->\n",
       "<script async=\"\" src=\"https://www.googletagmanager.com/gtag/js?id=UA-1179606-29\"></script>\n",
       "<script>\n",
       "          window.dataLayer = window.dataLayer || [];\n",
       "          function gtag(){dataLayer.push(arguments);}\n",
       "          gtag('js', new Date());\n",
       "          gtag('config', 'UA-1179606-29');\n",
       "        </script>\n",
       "<script>\n",
       "          window.fbAsyncInit = function() {\n",
       "            FB.init({\n",
       "              appId            : '483774921971842',\n",
       "              autoLogAppEvents : true,\n",
       "              xfbml            : true,\n",
       "              version          : 'v6.0'\n",
       "            });\n",
       "          };\n",
       "        </script>\n",
       "<script async=\"\" defer=\"\" src=\"https://connect.facebook.net/en_US/sdk.js\"></script>\n",
       "<meta content=\"passiton.com\" property=\"og:site_name\"/>\n",
       "<meta content=\"Inspirational Quotes - Motivational Quotes - Leadership Quotes | Page 2\" property=\"og:title\"/>\n",
       "<meta content=\"website\" property=\"og:type\"/>\n",
       "<meta content=\"https://www.passiton.com/passiton.jpg\" property=\"og:image\"/>\n",
       "<meta content=\"https://www.passiton.com/inspirational-quotes?page=2\" property=\"og:url\"/>\n",
       "<meta content=\"Find the perfect quotation from our hand-picked collection of inspiring quotes by hundreds of authors. | Page 2\" property=\"og:description\"/>\n",
       "<meta content=\"483774921971842\" property=\"fb:app_id\"/>\n",
       "<meta content=\"summary_large_image\" name=\"twitter:card\"/>\n",
       "<meta content=\"@passiton\" name=\"twitter:site\"/>\n",
       "<meta content=\"@passiton\" name=\"twitter:creator\"/>\n",
       "<meta content=\"Inspirational Quotes - Motivational Quotes - Leadership Quotes | Page 2\" name=\"twitter:title\"/>\n",
       "<meta content=\"Find the perfect quotation from our hand-picked collection of inspiring quotes by hundreds of authors. | Page 2\" name=\"twitter:description\"/>\n",
       "<meta content=\"https://www.passiton.com/passiton.jpg\" name=\"twitter:image\"/>\n",
       "<meta content=\"https://www.passiton.com/inspirational-quotes?page=2\" name=\"twitter:url\"/>\n",
       "<meta content=\"passiton.com\" itemprop=\"name\"/>\n",
       "<meta content=\"Find the perfect quotation from our hand-picked collection of inspiring quotes by hundreds of authors. | Page 2\" itemprop=\"description\"/>\n",
       "<meta content=\"https://www.passiton.com/passiton.jpg\" itemprop=\"image\"/>\n",
       "<link href=\"/apple-touch-icon.png\" rel=\"apple-touch-icon\" sizes=\"180x180\"/>\n",
       "<link href=\"/favicon-32x32.png\" rel=\"icon\" sizes=\"32x32\" type=\"image/png\"/>\n",
       "<link href=\"/favicon-16x16.png\" rel=\"icon\" sizes=\"16x16\" type=\"image/png\"/>\n",
       "<link color=\"#C8102E\" href=\"/passiton_arrow.svg\" rel=\"mask-icon\"/>\n",
       "<link href=\"/manifest.json\" rel=\"manifest\"/>\n",
       "<link color=\"#5bbad5\" href=\"/safari-pinned-tab.svg\" rel=\"mask-icon\"/>\n",
       "<meta content=\"passiton\" name=\"apple-mobile-web-app-title\"/>\n",
       "<meta content=\"passiton\" name=\"application-name\"/>\n",
       "<meta content=\"#f1f1f1\" name=\"theme-color\"/>\n",
       "</head>\n",
       "<body class=\"no-transition quotes_index\">\n",
       "<header>\n",
       "<nav class=\"navbar navbar-default bootsnav navbar-fixed-top header-dark white-link background-transparent nav-box-width white-link navbar-expand-lg\">\n",
       "<div class=\"container-fluid nav-header-container\">\n",
       "<div class=\"col-auto pl-0\">\n",
       "<a class=\"logo\" href=\"/\" title=\"Pass It On®\"><img alt=\"Pass It On\" class=\"logo-dark\" data-rjs=\"/assets/site/logo@2x-77b9f4fa1e4bafa6ff119f8f162b7bd9.png\" src=\"/assets/site/logo-6d680decaadef58e4fbb586e147bc135.png\"/><img alt=\"Pass It On\" class=\"logo-light default\" data-rjs=\"/assets/site/logo-white@2x-82bf2486063a48e9207811cc7f6d5e5f.png\" src=\"/assets/site/logo-white-2d99f390ad2f6d3bbf59a52aadb55d60.png\"/></a>\n",
       "</div>\n",
       "<div class=\"col accordion-menu pr-0 pr-md-3\">\n",
       "<button class=\"navbar-toggler collapsed\" data-target=\"#navbar-collapse-toggle-1\" data-toggle=\"collapse\" type=\"button\">\n",
       "<span class=\"sr-only\">toggle navigation</span>\n",
       "<span class=\"icon-bar\"></span>\n",
       "<span class=\"icon-bar\"></span>\n",
       "<span class=\"icon-bar\"></span>\n",
       "</button>\n",
       "<div class=\"navbar-collapse collapse justify-content-end\" id=\"navbar-collapse-toggle-1\">\n",
       "<ul class=\"nav navbar-nav no-margin alt-font text-normal\" data-in=\"fadeIn\" data-out=\"fadeOut\" id=\"accordion\">\n",
       "<li><a href=\"/inspirational-quotes\">Quotes</a></li>\n",
       "<li><a href=\"/inspirational-stories-tv-spots\">Videos</a></li>\n",
       "<li class=\"dropdown simple-dropdown\"><a href=\"/inspirational-sayings-billboards\">Billboards <i aria-hidden=\"true\" class=\"fas fa-angle-down dropdown-toggle\" data-toggle=\"dropdown\"></i></a>\n",
       "<ul class=\"dropdown-menu\" role=\"menu\">\n",
       "<li><a href=\"/inspirational-sayings-billboards\">Official Billboards</a>\n",
       "</li><li><a href=\"/is-in-you\">Is In You® Billboards</a>\n",
       "</li><li><a href=\"/your-billboards\">Create Your Own Billboard</a>\n",
       "</li></ul>\n",
       "</li>\n",
       "<li><a href=\"/radio\">Radio Ads</a></li>\n",
       "<li class=\"dropdown simple-dropdown\"><a href=\"#\">Language <i aria-hidden=\"true\" class=\"fas fa-angle-down dropdown-toggle\" data-toggle=\"dropdown\"></i></a>\n",
       "<ul class=\"dropdown-menu\" role=\"menu\">\n",
       "<li><a href=\"https://www.pasala.org/\" target=\"_blank\">Spanish | Español</a>\n",
       "</li><li><a href=\"https://www.umavidamelhor.org/\" target=\"_blank\">Portuguese | Português</a>\n",
       "</li><li><a href=\"https://www.values.cn.com/\" target=\"_blank\">Chinese | 中文</a>\n",
       "</li></ul>\n",
       "</li>\n",
       "</ul>\n",
       "</div>\n",
       "</div>\n",
       "<div class=\"col-auto pr-0\">\n",
       "<div class=\"header-searchbar\">\n",
       "<a class=\"header-search-form\" href=\"#search-header\"><i class=\"fas fa-search search-button\"></i></a>\n",
       "<form action=\"/search\" class=\"mfp-hide search-form-result\" id=\"search-header\" method=\"post\" name=\"search-header\">\n",
       "<div class=\"search-form position-relative\">\n",
       "<button class=\"fas fa-search close-search search-button\" type=\"submit\"></button>\n",
       "<input autocomplete=\"off\" class=\"search-input\" name=\"q\" placeholder=\"Search passiton.com...\" type=\"text\"/>\n",
       "</div>\n",
       "</form>\n",
       "</div>\n",
       "<div class=\"header-social-icon d-none d-md-inline-block\">\n",
       "<a href=\"https://www.facebook.com/valuescom\" target=\"_blank\" title=\"Facebook\"><i aria-hidden=\"true\" class=\"fab fa-facebook-f\"></i></a>\n",
       "<a href=\"https://twitter.com/passiton_values\" target=\"_blank\" title=\"Twitter\"><i class=\"fab fa-twitter\"></i></a>\n",
       "<a href=\"https://www.instagram.com/passiton_values/\" target=\"_blank\" title=\"Instagram\"><i aria-hidden=\"true\" class=\"fab fa-instagram\"></i></a>\n",
       "<a href=\"https://www.pinterest.com/passiton_values/\" target=\"_blank\" title=\"Pinterest\"><i aria-hidden=\"true\" class=\"fab fa-pinterest\"></i></a>\n",
       "<a href=\"https://www.youtube.com/c/passiton_values\" target=\"_blank\" title=\"YouTube\"><i aria-hidden=\"true\" class=\"fab fa-youtube no-margin-right\"></i></a>\n",
       "</div>\n",
       "</div>\n",
       "</div>\n",
       "</nav>\n",
       "</header>\n",
       "<section class=\"parallax padding-six-all bg-black\" data-stellar-background-ratio=\"0.2\" style=\"background-image:url('/assets/backgrounds/flowers-8d19415bc3bc371f5beaed468d9a1970.jpg');\">\n",
       "<div class=\"container\">\n",
       "<div class=\"row justify-content-center\">\n",
       "<div class=\"col-12 col-lg-10 text-center\">\n",
       "<div class=\"shadow bg-extra-dark-gray padding-two-all border-radius-6 width-70 lg-width-80 sm-width-100 mx-auto lg-padding-30px-all sm-padding-15px-all sm-margin-40px-top\">\n",
       "<h6 class=\"font-weight-300 text-white-2 margin-20px-bottom sm-margin-15px-bottom\">Get our FREE daily quote emails!</h6>\n",
       "<p class=\"text-medium width-70 mx-auto margin-40px-bottom sm-width-100 sm-margin-15px-bottom\">Get a daily inspirational quote in your inbox each weekday! Enter your email below to subscribe.</p>\n",
       "<form accept-charset=\"UTF-8\" action=\"/users\" class=\"simple_form search-box3 margin-10px-bottom\" id=\"new_user\" method=\"post\" novalidate=\"novalidate\"><input name=\"utf8\" type=\"hidden\" value=\"✓\"/><input name=\"authenticity_token\" type=\"hidden\" value=\"KDMH5A9/7oyosFTe/RlF+bncCg7+L34hAWmeWp+kPOydRMCW72p/ryOnybw7b9Za7R/F1vyaKlsXHe02s4H4vA==\"/>\n",
       "<div class=\"input-group add-on width-75 mx-auto sm-width-100\">\n",
       "<input class=\"string email optional form-control text-white\" id=\"user_email\" label=\"false\" name=\"user[email]\" placeholder=\"you@your-email.com\" type=\"text\"/>\n",
       "<script src=\"https://www.recaptcha.net/recaptcha/api.js?render=6Ldta8EUAAAAACp3yt76yG8QWMdQkpDBkP1bcHi6\"></script>\n",
       "<script>\n",
       "          // Define function so that we can call it again later if we need to reset it\n",
       "          // This executes reCAPTCHA and then calls our callback.\n",
       "          function executeRecaptchaForQuote() {\n",
       "            grecaptcha.ready(function() {\n",
       "              grecaptcha.execute('6Ldta8EUAAAAACp3yt76yG8QWMdQkpDBkP1bcHi6', {action: 'quote'}).then(function(token) {\n",
       "                setInputWithRecaptchaResponseTokenForQuote('g-recaptcha-response-data-quote', token)\n",
       "              });\n",
       "            });\n",
       "          };\n",
       "          // Invoke immediately\n",
       "          executeRecaptchaForQuote()\n",
       "\n",
       "          // Async variant so you can await this function from another async function (no need for\n",
       "          // an explicit callback function then!)\n",
       "          // Returns a Promise that resolves with the response token.\n",
       "          async function executeRecaptchaForQuoteAsync() {\n",
       "            return new Promise((resolve, reject) => {\n",
       "              grecaptcha.ready(async function() {\n",
       "                resolve(await grecaptcha.execute('6Ldta8EUAAAAACp3yt76yG8QWMdQkpDBkP1bcHi6', {action: 'quote'}))\n",
       "              });\n",
       "            })\n",
       "          };\n",
       "\n",
       "                    var setInputWithRecaptchaResponseTokenForQuote = function(id, token) {\n",
       "            var element = document.getElementById(id);\n",
       "            element.value = token;\n",
       "          }\n",
       "\n",
       "        </script>\n",
       "<input class=\"g-recaptcha g-recaptcha-response\" data-sitekey=\"6Ldta8EUAAAAACp3yt76yG8QWMdQkpDBkP1bcHi6\" id=\"g-recaptcha-response-data-quote\" name=\"g-recaptcha-response-data[quote]\" type=\"hidden\"/>\n",
       "<div class=\"input-group-append\">\n",
       "<button class=\"btn btn-default\" type=\"submit\"><i class=\"ti-arrow-right text-small m-0\"></i></button>\n",
       "</div>\n",
       "</div>\n",
       "</form>\n",
       "</div>\n",
       "</div>\n",
       "</div>\n",
       "</div>\n",
       "</section>\n",
       "<section class=\"half-section bg-extra-dark-gray half-section\">\n",
       "<div class=\"container\">\n",
       "<div class=\"row m-0\">\n",
       "<div class=\"col-12 d-flex flex-column justify-content-center text-center wow fadeIn\" data-wow-delay=\"0.2s\">\n",
       "<h5 class=\"text-white alt-font font-weight-400 letter-spacing-1 margin-10px-bottom\">INSPIRATIONAL QUOTES</h5>\n",
       "<span class=\"text-white-2 opacity8 alt-font mb-0 padding-20px-bottom\">Find the perfect quote... and Pass It On®</span>\n",
       "<form action=\"/inspirational-quotes\" class=\"search-box2 margin-30px-bottom\" method=\"get\">\n",
       "<div class=\"input-group add-on width-75 mx-auto sm-width-100\">\n",
       "<input class=\"form-control\" name=\"q\" placeholder=\"Search our inspiring quotes...\" type=\"text\" value=\"\"/>\n",
       "<div class=\"input-group-append\">\n",
       "<button class=\"btn btn-default\" type=\"submit\"><i class=\"ti-search text-small m-0\"></i></button>\n",
       "</div>\n",
       "</div>\n",
       "</form>\n",
       "</div>\n",
       "</div>\n",
       "<div class=\"row\" id=\"all_quotes\">\n",
       "<div class=\"col-6 col-lg-3 text-center margin-30px-bottom sm-margin-30px-top\">\n",
       "<a href=\"/inspirational-quotes/6378-now-is-no-time-to-think-of-what-you-do-not\"><img alt=\"Now is no time to think of what you do not have. Think of what you can do with what there is.  #&lt;Author:0x00007f5e90877e18&gt;\" class=\"margin-10px-bottom shadow\" height=\"310\" src=\"https://assets.passiton.com/quotes/quote_artwork/6378/medium/20200520_wednesday_quote.jpg?1589574757\" width=\"310\"/></a>\n",
       "<h5 class=\"value_on_red\"><a href=\"/inspirational-quotes/6378-now-is-no-time-to-think-of-what-you-do-not\">GRATITUDE</a></h5>\n",
       "</div><div class=\"col-6 col-lg-3 text-center margin-30px-bottom sm-margin-30px-top\">\n",
       "<a href=\"/inspirational-quotes/8072-today-i-choose-to-live-with-gratitude-for-the\"><img alt=\"Today I choose to live with gratitude for the love that fills my heart, the peace that rests within my spirit, and the voice of hope that says all things are possible. #&lt;Author:0x00007f5e9089fda0&gt;\" class=\"margin-10px-bottom shadow\" height=\"310\" src=\"https://assets.passiton.com/quotes/quote_artwork/8072/medium/20200519_tuesday_quote.jpg?1589574728\" width=\"310\"/></a>\n",
       "<h5 class=\"value_on_red\"><a href=\"/inspirational-quotes/8072-today-i-choose-to-live-with-gratitude-for-the\">GRATITUDE</a></h5>\n",
       "</div><div class=\"col-6 col-lg-3 text-center margin-30px-bottom sm-margin-30px-top\">\n",
       "<a href=\"/inspirational-quotes/8071-if-you-concentrate-on-finding-whatever-is-good\"><img alt=\"If you concentrate on finding whatever is good in every situation, you will discover that your life will suddenly be filled with gratitude, a feeling that nurtures the soul. #&lt;Author:0x00007f5e908c5d48&gt;\" class=\"margin-10px-bottom shadow\" height=\"310\" src=\"https://assets.passiton.com/quotes/quote_artwork/8071/medium/20200518_monday_quote.jpg?1589574705\" width=\"310\"/></a>\n",
       "<h5 class=\"value_on_red\"><a href=\"/inspirational-quotes/8071-if-you-concentrate-on-finding-whatever-is-good\">GRATITUDE</a></h5>\n",
       "</div><div class=\"col-6 col-lg-3 text-center margin-30px-bottom sm-margin-30px-top\">\n",
       "<a href=\"/inspirational-quotes/8070-it-is-literally-true-that-you-can-succeed-best\"><img alt=\"It is literally true that you can succeed best and quickest by helping others to succeed. #&lt;Author:0x00007f5e908f2b18&gt;\" class=\"margin-10px-bottom shadow\" height=\"310\" src=\"https://assets.passiton.com/quotes/quote_artwork/8070/medium/20200515_friday_quote.jpg?1588967471\" width=\"310\"/></a>\n",
       "<h5 class=\"value_on_red\"><a href=\"/inspirational-quotes/8070-it-is-literally-true-that-you-can-succeed-best\">PULL TOGETHER</a></h5>\n",
       "</div><div class=\"col-6 col-lg-3 text-center margin-30px-bottom sm-margin-30px-top\">\n",
       "<a href=\"/inspirational-quotes/5429-the-way-a-team-plays-as-a-whole-determines-its\"><img alt=\"The way a team plays as a whole determines its success. You may have the greatest bunch of individual stars in the world, but if they don't play together, the club won't be worth a dime. #&lt;Author:0x00007f5e90917800&gt;\" class=\"margin-10px-bottom shadow\" height=\"310\" src=\"https://assets.passiton.com/quotes/quote_artwork/5429/medium/20200514_thursday_quote.jpg?1588967448\" width=\"310\"/></a>\n",
       "<h5 class=\"value_on_red\"><a href=\"/inspirational-quotes/5429-the-way-a-team-plays-as-a-whole-determines-its\">PULL TOGETHER</a></h5>\n",
       "</div><div class=\"col-6 col-lg-3 text-center margin-30px-bottom sm-margin-30px-top\">\n",
       "<a href=\"/inspirational-quotes/7245-never-doubt-that-a-small-group-of-thoughtful\"><img alt=\"Never doubt that a small group of thoughtful, committed citizens can change the world; indeed, it’s the only thing that ever has. #&lt;Author:0x00007f5e90943068&gt;\" class=\"margin-10px-bottom shadow\" height=\"310\" src=\"https://assets.passiton.com/quotes/quote_artwork/7245/medium/20200513_wednesday_quote.jpg?1588967426\" width=\"310\"/></a>\n",
       "<h5 class=\"value_on_red\"><a href=\"/inspirational-quotes/7245-never-doubt-that-a-small-group-of-thoughtful\">PULL TOGETHER</a></h5>\n",
       "</div><div class=\"col-6 col-lg-3 text-center margin-30px-bottom sm-margin-30px-top\">\n",
       "<a href=\"/inspirational-quotes/5572-cooperation-is-the-thorough-conviction-that\"><img alt=\"Cooperation is the thorough conviction that nobody can get there unless everybody gets there. #&lt;Author:0x00007f5e9095c6a8&gt;\" class=\"margin-10px-bottom shadow\" height=\"310\" src=\"https://assets.passiton.com/quotes/quote_artwork/5572/medium/20200512_tuesday_quote.jpg?1588967401\" width=\"310\"/></a>\n",
       "<h5 class=\"value_on_red\"><a href=\"/inspirational-quotes/5572-cooperation-is-the-thorough-conviction-that\">PULL TOGETHER</a></h5>\n",
       "</div><div class=\"col-6 col-lg-3 text-center margin-30px-bottom sm-margin-30px-top\">\n",
       "<a href=\"/inspirational-quotes/8069-one-person-seeking-glory-doesnt-accomplish\"><img alt=\"One person seeking glory doesn't accomplish much. Success is the result of people pulling together to meet common goals. #&lt;Author:0x00007f5e9098a3c8&gt;\" class=\"margin-10px-bottom shadow\" height=\"310\" src=\"https://assets.passiton.com/quotes/quote_artwork/8069/medium/20200511_monday_quote.jpg?1588967374\" width=\"310\"/></a>\n",
       "<h5 class=\"value_on_red\"><a href=\"/inspirational-quotes/8069-one-person-seeking-glory-doesnt-accomplish\">PULL TOGETHER</a></h5>\n",
       "</div><div class=\"col-6 col-lg-3 text-center margin-30px-bottom sm-margin-30px-top\">\n",
       "<a href=\"/inspirational-quotes/8067-you-can-always-always-give-something-even-if\"><img alt=\"You can always, always give something, even if it is only kindness! #&lt;Author:0x00007f5e909a4638&gt;\" class=\"margin-10px-bottom shadow\" height=\"310\" src=\"https://assets.passiton.com/quotes/quote_artwork/8067/medium/20200508_friday_quote.jpg?1588365422\" width=\"310\"/></a>\n",
       "<h5 class=\"value_on_red\"><a href=\"/inspirational-quotes/8067-you-can-always-always-give-something-even-if\">KINDNESS</a></h5>\n",
       "</div><div class=\"col-6 col-lg-3 text-center margin-30px-bottom sm-margin-30px-top\">\n",
       "<a href=\"/inspirational-quotes/8068-kindness-is-the-mark-we-leave-on-the-world\"><img alt=\"Kindness is the mark we leave on the world. #&lt;Author:0x00007f5e909cda10&gt;\" class=\"margin-10px-bottom shadow\" height=\"310\" src=\"https://assets.passiton.com/quotes/quote_artwork/8068/medium/20200507_thursday_quote_alternate.jpg?1588368026\" width=\"310\"/></a>\n",
       "<h5 class=\"value_on_red\"><a href=\"/inspirational-quotes/8068-kindness-is-the-mark-we-leave-on-the-world\">KINDNESS</a></h5>\n",
       "</div><div class=\"col-6 col-lg-3 text-center margin-30px-bottom sm-margin-30px-top\">\n",
       "<a href=\"/inspirational-quotes/8066-love-and-kindness-are-never-wasted-they-always\"><img alt=\"Love and kindness are never wasted. They always make a difference. They bless the one who receives them, and they bless you, the giver. #&lt;Author:0x00007f5e909f7a68&gt;\" class=\"margin-10px-bottom shadow\" height=\"310\" src=\"https://assets.passiton.com/quotes/quote_artwork/8066/medium/20200506_wednesday_quote.jpg?1588365394\" width=\"310\"/></a>\n",
       "<h5 class=\"value_on_red\"><a href=\"/inspirational-quotes/8066-love-and-kindness-are-never-wasted-they-always\">KINDNESS</a></h5>\n",
       "</div><div class=\"col-6 col-lg-3 text-center margin-30px-bottom sm-margin-30px-top\">\n",
       "<a href=\"/inspirational-quotes/8065-you-can-accomplish-by-kindness-what-you-cannot\"><img alt=\"You can accomplish by kindness what you cannot by force. #&lt;Author:0x00007f5e90a12548&gt;\" class=\"margin-10px-bottom shadow\" height=\"310\" src=\"https://assets.passiton.com/quotes/quote_artwork/8065/medium/20200505_tuesday_quote.jpg?1588365360\" width=\"310\"/></a>\n",
       "<h5 class=\"value_on_red\"><a href=\"/inspirational-quotes/8065-you-can-accomplish-by-kindness-what-you-cannot\">KINDNESS</a></h5>\n",
       "</div><div class=\"col-6 col-lg-3 text-center margin-30px-bottom sm-margin-30px-top\">\n",
       "<a href=\"/inspirational-quotes/7838-unexpected-kindness-is-the-most-powerful-least\"><img alt=\"Unexpected kindness is the most powerful, least costly, and most underrated agent of human change. #&lt;Author:0x00007f5e90a350c0&gt;\" class=\"margin-10px-bottom shadow\" height=\"310\" src=\"https://assets.passiton.com/quotes/quote_artwork/7838/medium/20200504_monday_quote.jpg?1588365331\" width=\"310\"/></a>\n",
       "<h5 class=\"value_on_red\"><a href=\"/inspirational-quotes/7838-unexpected-kindness-is-the-most-powerful-least\">KINDNESS</a></h5>\n",
       "</div><div class=\"col-6 col-lg-3 text-center margin-30px-bottom sm-margin-30px-top\">\n",
       "<a href=\"/inspirational-quotes/7410-you-may-encounter-many-defeats-but-you-must\"><img alt=\"You may encounter many defeats, but you must not be defeated. In fact, it may be necessary to encounter the defeats, so you can know who you are, what you can rise from, how you can still come out of it. #&lt;Author:0x00007f5e90a62160&gt;\" class=\"margin-10px-bottom shadow\" height=\"310\" src=\"https://assets.passiton.com/quotes/quote_artwork/7410/medium/20200501_friday_quote.jpg?1587752957\" width=\"310\"/></a>\n",
       "<h5 class=\"value_on_red\"><a href=\"/inspirational-quotes/7410-you-may-encounter-many-defeats-but-you-must\">OVERCOMING</a></h5>\n",
       "</div><div class=\"col-6 col-lg-3 text-center margin-30px-bottom sm-margin-30px-top\">\n",
       "<a href=\"/inspirational-quotes/8064-your-attitude-towards-problems-difficulties\"><img alt=\"Your attitude towards problems, difficulties, and adversities is the most important factor in overcoming them. #&lt;Author:0x00007f5e90a8bdf8&gt;\" class=\"margin-10px-bottom shadow\" height=\"310\" src=\"https://assets.passiton.com/quotes/quote_artwork/8064/medium/20200430_thursday_quote.jpg?1587752929\" width=\"310\"/></a>\n",
       "<h5 class=\"value_on_red\"><a href=\"/inspirational-quotes/8064-your-attitude-towards-problems-difficulties\">OVERCOMING</a></h5>\n",
       "</div><div class=\"col-6 col-lg-3 text-center margin-30px-bottom sm-margin-30px-top\">\n",
       "<a href=\"/inspirational-quotes/5390-when-you-get-in-a-tight-place-and-everything\"><img alt=\"When you get in a tight place and everything goes against you, till it seems as though you could not hold on a minute longer, never give up then, for that is just the place and time that the tide will turn. #&lt;Author:0x00007f5e90acd500&gt;\" class=\"margin-10px-bottom shadow\" height=\"310\" src=\"https://assets.passiton.com/quotes/quote_artwork/5390/medium/20200429_wednesday_quote.jpg?1587752872\" width=\"310\"/></a>\n",
       "<h5 class=\"value_on_red\"><a href=\"/inspirational-quotes/5390-when-you-get-in-a-tight-place-and-everything\">OVERCOMING</a></h5>\n",
       "</div><div class=\"col-6 col-lg-3 text-center margin-30px-bottom sm-margin-30px-top\">\n",
       "<a href=\"/inspirational-quotes/7681-success-is-to-be-measured-not-so-much-by-the\"><img alt=\"Success is to be measured not so much by the position that one has reached in life as by the obstacles which they have overcome. #&lt;Author:0x00007f5e90b29a58&gt;\" class=\"margin-10px-bottom shadow\" height=\"310\" src=\"https://assets.passiton.com/quotes/quote_artwork/7681/medium/20200428_tuesday_quote_alternate.jpg?1587761536\" width=\"310\"/></a>\n",
       "<h5 class=\"value_on_red\"><a href=\"/inspirational-quotes/7681-success-is-to-be-measured-not-so-much-by-the\">OVERCOMING</a></h5>\n",
       "</div><div class=\"col-6 col-lg-3 text-center margin-30px-bottom sm-margin-30px-top\">\n",
       "<a href=\"/inspirational-quotes/8063-strength-doesnt-come-from-what-you-can-do-it\"><img alt=\"Strength doesn't come from what you can do. It comes from overcoming the things you once thought you couldn't. #&lt;Author:0x00007f5e90b44038&gt;\" class=\"margin-10px-bottom shadow\" height=\"310\" src=\"https://assets.passiton.com/quotes/quote_artwork/8063/medium/20200427_monday_quote.jpg?1587752821\" width=\"310\"/></a>\n",
       "<h5 class=\"value_on_red\"><a href=\"/inspirational-quotes/8063-strength-doesnt-come-from-what-you-can-do-it\">OVERCOMING</a></h5>\n",
       "</div><div class=\"col-6 col-lg-3 text-center margin-30px-bottom sm-margin-30px-top\">\n",
       "<a href=\"/inspirational-quotes/7175-hope-begins-in-the-dark-the-stubborn-hope-that\"><img alt=\"Hope begins in the dark, the stubborn hope that if you just show up and try to do the right thing, the dawn will come. You wait and watch and work: you don't give up. #&lt;Author:0x00007f5e90b91630&gt;\" class=\"margin-10px-bottom shadow\" height=\"310\" src=\"https://assets.passiton.com/quotes/quote_artwork/7175/medium/20200424_friday_quote.jpg?1587169105\" width=\"310\"/></a>\n",
       "<h5 class=\"value_on_red\"><a href=\"/inspirational-quotes/7175-hope-begins-in-the-dark-the-stubborn-hope-that\">HOPE</a></h5>\n",
       "</div><div class=\"col-6 col-lg-3 text-center margin-30px-bottom sm-margin-30px-top\">\n",
       "<a href=\"/inspirational-quotes/7580-let-your-hopes-not-your-hurts-shape-your-future\"><img alt=\"Let your hopes, not your hurts, shape your future. #&lt;Author:0x00007f5e90bba468&gt;\" class=\"margin-10px-bottom shadow\" height=\"310\" src=\"https://assets.passiton.com/quotes/quote_artwork/7580/medium/20200423_thursday_quote.jpg?1587169080\" width=\"310\"/></a>\n",
       "<h5 class=\"value_on_red\"><a href=\"/inspirational-quotes/7580-let-your-hopes-not-your-hurts-shape-your-future\">HOPE</a></h5>\n",
       "</div><div class=\"col-6 col-lg-3 text-center margin-30px-bottom sm-margin-30px-top\">\n",
       "<a href=\"/inspirational-quotes/4818-hope-is-not-pretending-that-troubles-dont\"><img alt=\"Hope is not pretending that troubles don't exist. It is the hope that they won't last forever. That hurts will be healed and difficulties overcome. That we will be led out of the darkness and into the sunshine. #&lt;Author:0x00007f5e90be3d90&gt;\" class=\"margin-10px-bottom shadow\" height=\"310\" src=\"https://assets.passiton.com/quotes/quote_artwork/4818/medium/20200422_wednesday_quote.jpg?1587169052\" width=\"310\"/></a>\n",
       "<h5 class=\"value_on_red\"><a href=\"/inspirational-quotes/4818-hope-is-not-pretending-that-troubles-dont\">HOPE</a></h5>\n",
       "</div><div class=\"col-6 col-lg-3 text-center margin-30px-bottom sm-margin-30px-top\">\n",
       "<a href=\"/inspirational-quotes/8062-they-say-a-person-needs-just-three-things-to-be\"><img alt=\"They say a person needs just three things to be happy in this world: someone to love, something to do, and something to hope for. #&lt;Author:0x00007f5e90c00c60&gt;\" class=\"margin-10px-bottom shadow\" height=\"310\" src=\"https://assets.passiton.com/quotes/quote_artwork/8062/medium/20200421_tuesday_quote.jpg?1587228038\" width=\"310\"/></a>\n",
       "<h5 class=\"value_on_red\"><a href=\"/inspirational-quotes/8062-they-say-a-person-needs-just-three-things-to-be\">HOPE</a></h5>\n",
       "</div><div class=\"col-6 col-lg-3 text-center margin-30px-bottom sm-margin-30px-top\">\n",
       "<a href=\"/inspirational-quotes/8061-hope-is-important-because-it-can-make-the\"><img alt=\"Hope is important because it can make the present moment less difficult to bear. If we believe that tomorrow will be better, we can bear a hardship today. #&lt;Author:0x00007f5e90c24d68&gt;\" class=\"margin-10px-bottom shadow\" height=\"310\" src=\"https://assets.passiton.com/quotes/quote_artwork/8061/medium/20200420_monday_quote.jpg?1587168982\" width=\"310\"/></a>\n",
       "<h5 class=\"value_on_red\"><a href=\"/inspirational-quotes/8061-hope-is-important-because-it-can-make-the\">HOPE</a></h5>\n",
       "</div><div class=\"col-6 col-lg-3 text-center margin-30px-bottom sm-margin-30px-top\">\n",
       "<a href=\"/inspirational-quotes/7300-courage-doesnt-always-roar-sometimes-courage\"><img alt=\"Courage doesn't always roar. Sometimes courage is the little voice at the end of the day that says I'll try again tomorrow. #&lt;Author:0x00007f5e90caba70&gt;\" class=\"margin-10px-bottom shadow\" height=\"310\" src=\"https://assets.passiton.com/quotes/quote_artwork/7300/medium/20200417_friday_quote.jpg?1586626081\" width=\"310\"/></a>\n",
       "<h5 class=\"value_on_red\"><a href=\"/inspirational-quotes/7300-courage-doesnt-always-roar-sometimes-courage\">COURAGE</a></h5>\n",
       "</div><div class=\"col-6 col-lg-3 text-center margin-30px-bottom sm-margin-30px-top\">\n",
       "<a href=\"/inspirational-quotes/8059-courage-is-contagious-every-time-we-choose\"><img alt=\"Courage is contagious. Every time we choose courage, we make everyone around us a little better and the world a little braver. #&lt;Author:0x00007f5e90cc01a0&gt;\" class=\"margin-10px-bottom shadow\" height=\"310\" src=\"https://assets.passiton.com/quotes/quote_artwork/8059/medium/20200416_thursday_quote.jpg?1586626047\" width=\"310\"/></a>\n",
       "<h5 class=\"value_on_red\"><a href=\"/inspirational-quotes/8059-courage-is-contagious-every-time-we-choose\">COURAGE</a></h5>\n",
       "</div><div class=\"col-6 col-lg-3 text-center margin-30px-bottom sm-margin-30px-top\">\n",
       "<a href=\"/inspirational-quotes/6173-if-the-world-is-to-be-healed-through-human\"><img alt=\"If the world is to be healed through human efforts, I am convinced it will be by ordinary people, people whose love for this life is even greater than their fear.  #&lt;Author:0x00007f5e90d4f328&gt;\" class=\"margin-10px-bottom shadow\" height=\"310\" src=\"https://assets.passiton.com/quotes/quote_artwork/6173/medium/20200415_wednesday_quote.jpg?1586626019\" width=\"310\"/></a>\n",
       "<h5 class=\"value_on_red\"><a href=\"/inspirational-quotes/6173-if-the-world-is-to-be-healed-through-human\">COURAGE</a></h5>\n",
       "</div><div class=\"col-6 col-lg-3 text-center margin-30px-bottom sm-margin-30px-top\">\n",
       "<a href=\"/inspirational-quotes/8060-courage-is-the-most-important-of-all-the\"><img alt=\"Courage is the most important of all the virtues because without courage, you can't practice any other virtue consistently. #&lt;Author:0x00007f5e90d86fa8&gt;\" class=\"margin-10px-bottom shadow\" height=\"310\" src=\"https://assets.passiton.com/quotes/quote_artwork/8060/medium/20200414_tuesday_quote.jpg?1586626879\" width=\"310\"/></a>\n",
       "<h5 class=\"value_on_red\"><a href=\"/inspirational-quotes/8060-courage-is-the-most-important-of-all-the\">COURAGE</a></h5>\n",
       "</div><div class=\"col-6 col-lg-3 text-center margin-30px-bottom sm-margin-30px-top\">\n",
       "<a href=\"/inspirational-quotes/7302-courage-is-what-it-takes-to-stand-up-and-speak\"><img alt=\"Courage is what it takes to stand up and speak; courage is also what it takes to sit down and listen. #&lt;Author:0x00007f5e90da9828&gt;\" class=\"margin-10px-bottom shadow\" height=\"310\" src=\"https://assets.passiton.com/quotes/quote_artwork/7302/medium/20200413_monday_quote.jpg?1586625965\" width=\"310\"/></a>\n",
       "<h5 class=\"value_on_red\"><a href=\"/inspirational-quotes/7302-courage-is-what-it-takes-to-stand-up-and-speak\">COURAGE</a></h5>\n",
       "</div><div class=\"col-6 col-lg-3 text-center margin-30px-bottom sm-margin-30px-top\">\n",
       "<a href=\"/inspirational-quotes/8057-our-true-work-is-not-our-job-that-is-what-we\"><img alt=\"Our true work is not our job, that is what we do, not what we were created to do. Our true work is to look after each other, to protect each other and to be of benefit to one another. #&lt;Author:0x00007f5e90dc5938&gt;\" class=\"margin-10px-bottom shadow\" height=\"310\" src=\"https://assets.passiton.com/quotes/quote_artwork/8057/medium/20200410_friday_quote.jpg?1585942901\" width=\"310\"/></a>\n",
       "<h5 class=\"value_on_red\"><a href=\"/inspirational-quotes/8057-our-true-work-is-not-our-job-that-is-what-we\">HELPING OTHERS</a></h5>\n",
       "</div><div class=\"col-6 col-lg-3 text-center margin-30px-bottom sm-margin-30px-top\">\n",
       "<a href=\"/inspirational-quotes/7088-in-the-time-we-have-it-is-surely-our-duty-to-do\"><img alt=\"In the time we have it is surely our duty to do all the good we can to all the people we can in all the ways we can.  #&lt;Author:0x00007f5e90de5558&gt;\" class=\"margin-10px-bottom shadow\" height=\"310\" src=\"https://assets.passiton.com/quotes/quote_artwork/7088/medium/20200409_thursday_quote.jpg?1585942860\" width=\"310\"/></a>\n",
       "<h5 class=\"value_on_red\"><a href=\"/inspirational-quotes/7088-in-the-time-we-have-it-is-surely-our-duty-to-do\">HELPING OTHERS</a></h5>\n",
       "</div><div class=\"col-6 col-lg-3 text-center margin-30px-bottom sm-margin-30px-top\">\n",
       "<a href=\"/inspirational-quotes/7014-to-help-yourself-help-others-whatever-good\"><img alt=\"To help yourself, help others. Whatever good you do travels a circle and returns to you many times over- but remember, life isn't about what you get, it's about what you become. #&lt;Author:0x00007f5e90e09d90&gt;\" class=\"margin-10px-bottom shadow\" height=\"310\" src=\"https://assets.passiton.com/quotes/quote_artwork/7014/medium/20200408_wednesday_quote.jpg?1585942830\" width=\"310\"/></a>\n",
       "<h5 class=\"value_on_red\"><a href=\"/inspirational-quotes/7014-to-help-yourself-help-others-whatever-good\">HELPING OTHERS</a></h5>\n",
       "</div><div class=\"col-6 col-lg-3 text-center margin-30px-bottom sm-margin-30px-top\">\n",
       "<a href=\"/inspirational-quotes/3700-great-opportunities-to-help-others-seldom-come\"><img alt=\"Great opportunities to help others seldom come, but small ones surround us every day. #&lt;Author:0x00007f5e90e7c3e0&gt;\" class=\"margin-10px-bottom shadow\" height=\"310\" src=\"https://assets.passiton.com/quotes/quote_artwork/3700/medium/20200407_tuesday_quote.jpg?1585942776\" width=\"310\"/></a>\n",
       "<h5 class=\"value_on_red\"><a href=\"/inspirational-quotes/3700-great-opportunities-to-help-others-seldom-come\">HELPING OTHERS</a></h5>\n",
       "</div>\n",
       "</div>\n",
       "<div class=\"row\">\n",
       "<div class=\"col-12 text-center\">\n",
       "<div class=\"quotes_pagination\"><a class=\"previous_page\" href=\"/inspirational-quotes?page=1\" rel=\"prev\">← Previous</a> <a href=\"/inspirational-quotes?page=1\" rel=\"prev\">1</a> <em class=\"current\">2</em> <a href=\"/inspirational-quotes?page=3\" rel=\"next\">3</a> <a href=\"/inspirational-quotes?page=4\">4</a> <a href=\"/inspirational-quotes?page=5\">5</a> <a href=\"/inspirational-quotes?page=6\">6</a> <a href=\"/inspirational-quotes?page=7\">7</a> <a href=\"/inspirational-quotes?page=8\">8</a> <a href=\"/inspirational-quotes?page=9\">9</a> <span class=\"gap\">…</span> <a href=\"/inspirational-quotes?page=117\">117</a> <a href=\"/inspirational-quotes?page=118\">118</a> <a class=\"next_page\" href=\"/inspirational-quotes?page=3\" rel=\"next\">Next →</a></div>\n",
       "</div>\n",
       "</div>\n",
       "</div>\n",
       "</section>\n",
       "<footer class=\"footer-classic-dark bg-extra-dark-gray padding-five-bottom sm-padding-30px-bottom\">\n",
       "<div class=\"bg-dark-footer padding-50px-tb sm-padding-30px-tb\">\n",
       "<div class=\"container\">\n",
       "<div class=\"row align-items-center\">\n",
       "<div class=\"col-lg-4 col-md-5 text-center alt-font sm-margin-15px-bottom\">\n",
       "                    Pass It On<sup>®</sup>\n",
       "</div>\n",
       "<div class=\"col-lg-4 col-md-2 text-center sm-margin-10px-bottom\">\n",
       "<a href=\"/\"><img alt=\"The Foundation for a Better Life\" class=\"footer-logo\" data-rjs=\"/assets/site/fbl_logo-b50da7cb3567063fca4dec74f28f07c4.png\" src=\"/assets/site/fbl_logo-b50da7cb3567063fca4dec74f28f07c4.png\"/></a>\n",
       "</div>\n",
       "<div class=\"col-lg-4 col-md-5 text-center\">\n",
       "<span class=\"alt-font margin-20px-right\">Follow us on social</span>\n",
       "<div class=\"social-icon-style-8 d-inline-block vertical-align-middle\">\n",
       "<ul class=\"small-icon mb-0\">\n",
       "<li><a class=\"facebook text-white-2\" href=\"https://www.facebook.com/valuescom\" target=\"_blank\"><i aria-hidden=\"true\" class=\"fab fa-facebook-f\"></i></a></li>\n",
       "<li><a class=\"twitter text-white-2\" href=\"https://twitter.com/passiton_values\" target=\"_blank\"><i class=\"fab fa-twitter\"></i></a></li>\n",
       "<li><a class=\"instagram text-white-2\" href=\"https://www.instagram.com/passiton_values/\" target=\"_blank\"><i aria-hidden=\"true\" class=\"fab fa-instagram no-margin-right\"></i></a></li>\n",
       "<li><a class=\"pinterest text-white-2\" href=\"https://www.pinterest.com/passiton_values/\" target=\"_blank\"><i aria-hidden=\"true\" class=\"fab fa-pinterest no-margin-right\"></i></a></li>\n",
       "<li><a class=\"youtube text-white-2\" href=\"https://www.youtube.com/c/passiton_values\" target=\"_blank\"><i aria-hidden=\"true\" class=\"fab fa-youtube no-margin-right\"></i></a></li>\n",
       "</ul>\n",
       "</div>\n",
       "</div>\n",
       "</div>\n",
       "</div>\n",
       "</div>\n",
       "<div class=\"footer-widget-area padding-five-top padding-30px-bottom sm-padding-30px-top\">\n",
       "<div class=\"container\">\n",
       "<div class=\"row\">\n",
       "<div class=\"col-lg-3 col-md-6 widget border-right border-color-medium-dark-gray padding-45px-left md-padding-15px-left md-no-border-right md-margin-30px-bottom text-center text-md-left\">\n",
       "<div class=\"widget-title alt-font text-small text-medium-gray text-uppercase margin-10px-bottom font-weight-600\">About Us</div>\n",
       "<ul class=\"list-unstyled\">\n",
       "<li><a class=\"text-small\" href=\"/who-we-are\">About The Foundation for a Better Life</a></li>\n",
       "<li><a class=\"text-small\" href=\"/faqs\">FAQs</a></li>\n",
       "<li><a class=\"text-small\" href=\"/foundation-recognition\">Foundation Recognition</a></li>\n",
       "<li><a class=\"text-small\" href=\"/contact-us\">Contact Us</a></li>\n",
       "</ul>\n",
       "</div>\n",
       "<div class=\"col-lg-3 col-md-6 widget border-right border-color-medium-dark-gray padding-45px-left md-padding-15px-left md-no-border-right md-margin-30px-bottom text-center text-md-left\">\n",
       "<div class=\"widget-title alt-font text-small text-medium-gray text-uppercase margin-10px-bottom font-weight-600\">Be Inspired</div>\n",
       "<ul class=\"list-unstyled\">\n",
       "<li><a class=\"text-small\" href=\"/teaching-values\">Teaching Values</a></li>\n",
       "<li><a class=\"text-small\" href=\"/inspirational-quotes\">Inspirational Quotations</a></li>\n",
       "<li><a class=\"text-small\" href=\"/inspirational-stories-tv-spots\">Pass It On® Videos</a></li>\n",
       "<li><a class=\"text-small\" href=\"/your-everyday-heroes\">Who's Your Hero Stories</a></li>\n",
       "<li><a class=\"text-small\" href=\"/inspirational-sayings-billboards\">Official Billboard Campaign</a></li>\n",
       "<li><a class=\"text-small\" href=\"/your-billboards\">Create Your Own Billboard</a></li>\n",
       "<li><a class=\"text-small\" href=\"/radio\">Radio Ads</a></li>\n",
       "<li><a class=\"text-small\" href=\"/inspirational-audio-stories\">Podcasts</a></li>\n",
       "<li><a class=\"text-small\" href=\"/pass-it-on-ecards\">Send an Ecard</a></li>\n",
       "</ul>\n",
       "</div>\n",
       "<div class=\"col-lg-3 col-md-6 widget border-right border-color-medium-dark-gray padding-45px-left md-padding-15px-left md-no-border-right md-margin-30px-bottom text-center text-md-left\">\n",
       "<div class=\"widget-title alt-font text-small text-medium-gray text-uppercase margin-10px-bottom font-weight-600\">For Schools</div>\n",
       "<ul class=\"list-unstyled\">\n",
       "<li><a class=\"text-small\" href=\"/poster-requests/new\">Free Posters &amp; DVD for Schools</a></li>\n",
       "<li><a class=\"text-small\" href=\"/pass-it-on-downloads\">Downloads</a></li>\n",
       "</ul>\n",
       "</div>\n",
       "<div class=\"col-lg-3 col-md-6 widget padding-45px-left md-padding-15px-left md-no-border-right md-margin-30px-bottom text-center text-md-left\">\n",
       "<div class=\"widget-title alt-font text-small text-medium-gray text-uppercase margin-10px-bottom font-weight-600\">For Media Companies</div>\n",
       "<ul class=\"list-unstyled\">\n",
       "<li><a class=\"text-small\" href=\"/for-media-companies\">For Media Companies</a></li>\n",
       "<li><a class=\"text-small\" href=\"https://www.passiton-media.com\">Broadcast Quality PSA Downloads</a></li>\n",
       "<li><a class=\"text-small\" href=\"https://www.passiton-media.com\">Pass It On Radio Ads</a></li>\n",
       "<li><a class=\"text-small\" href=\"https://www.passiton-media.com\">Live Reads</a></li>\n",
       "<li><a class=\"text-small\" href=\"https://www.passiton-media.com\">Out of Home Materials</a></li>\n",
       "</ul>\n",
       "<div class=\"row sm-margin-30px-top\">\n",
       "<div class=\"col-lg-4\">\n",
       "<a href=\"/\"><img alt=\"Values logo\" src=\"/assets/site/values_logo-cd29ec5f2f086673ac42962263d07e02.png\" style=\"max-width: 70px;\"/></a>\n",
       "</div>\n",
       "<div class=\"col-lg-7\">\n",
       "<p class=\"text-medium-gray text-small padding-10px-top\">VALUES.COM<small>®</small> is now PassItOn.com<small>®</small></p>\n",
       "</div>\n",
       "</div>\n",
       "</div>\n",
       "</div>\n",
       "</div>\n",
       "</div>\n",
       "<div class=\"container\">\n",
       "<div class=\"footer-bottom border-top border-color-medium-dark-gray padding-30px-top\">\n",
       "<div class=\"row\">\n",
       "<div class=\"col-lg-6 col-md-6 text-small text-md-left text-center\">©2000-2020 The Foundation for a Better Life.</div>\n",
       "<div class=\"col-lg-6 col-md-6 text-small text-md-right text-center\"><a href=\"/privacy-policy\">Privacy Policy</a>   |   <a href=\"/terms-of-use\">Terms of Use</a></div>\n",
       "</div>\n",
       "</div>\n",
       "</div>\n",
       "</footer>\n",
       "<a class=\"scroll-top-arrow\" href=\"javascript:void(0);\"><i class=\"ti-arrow-up\"></i></a>\n",
       "<script src=\"https://cdnjs.cloudflare.com/ajax/libs/jquery/1.12.4/jquery.js\"></script>\n",
       "<script crossorigin=\"anonymous\" integrity=\"sha384-UO2eT0CpHqdSJQ6hJty5KVphtPhzWj9WO1clHTMGa3JDZwrnQq4sF86dIHNDz0W1\" src=\"https://cdnjs.cloudflare.com/ajax/libs/popper.js/1.14.7/umd/popper.min.js\"></script>\n",
       "<script crossorigin=\"anonymous\" integrity=\"sha384-JjSmVgyd0p3pXB1rRibZUAYoIIy6OrQ6VrjIEaFf/nJGzIxFDsf4x0xIM+B07jRM\" src=\"https://stackpath.bootstrapcdn.com/bootstrap/4.3.1/js/bootstrap.min.js\"></script>\n",
       "<script src=\"/assets/pofo-3d0d89a27285d93c09e0f4c1fc85cead.js\"></script>\n",
       "</body>\n",
       "</html>"
      ]
     },
     "execution_count": 238,
     "metadata": {},
     "output_type": "execute_result"
    }
   ],
   "source": [
    "soup"
   ]
  },
  {
   "cell_type": "code",
   "execution_count": 239,
   "metadata": {},
   "outputs": [
    {
     "data": {
      "text/plain": [
       "<bound method Tag.prettify of <!DOCTYPE html>\n",
       "<html class=\"no-js\" dir=\"ltr\" lang=\"en-US\">\n",
       "<head>\n",
       "<title>Inspirational Quotes - Motivational Quotes - Leadership Quotes | Page 2 | PassItOn.com</title>\n",
       "<meta charset=\"utf-8\"/>\n",
       "<meta content=\"text/html; charset=utf-8\" http-equiv=\"content-type\"/>\n",
       "<meta content=\"IE=edge\" http-equiv=\"X-UA-Compatible\"/>\n",
       "<meta content=\"width=device-width,initial-scale=1.0,maximum-scale=1\" name=\"viewport\"/>\n",
       "<meta content=\"The Foundation for a Better Life | Pass It On.com\" name=\"description\"/>\n",
       "<link href=\"/apple-touch-icon.png\" rel=\"apple-touch-icon\" sizes=\"180x180\"/>\n",
       "<link href=\"/favicon-32x32.png\" rel=\"icon\" sizes=\"32x32\" type=\"image/png\"/>\n",
       "<link href=\"/favicon-16x16.png\" rel=\"icon\" sizes=\"16x16\" type=\"image/png\"/>\n",
       "<link href=\"/site.webmanifest\" rel=\"manifest\"/>\n",
       "<link color=\"#c8102e\" href=\"/safari-pinned-tab.svg\" rel=\"mask-icon\"/>\n",
       "<meta content=\"#c8102e\" name=\"msapplication-TileColor\"/>\n",
       "<meta content=\"#ffffff\" name=\"theme-color\"/>\n",
       "<link crossorigin=\"anonymous\" href=\"https://stackpath.bootstrapcdn.com/bootstrap/4.3.1/css/bootstrap.min.css\" integrity=\"sha384-ggOyR0iXCbMQv3Xipma34MD+dH/1fQ784/j6cY/iJTQUOhcWr7x9JvoRxT2MZw1T\" rel=\"stylesheet\"/>\n",
       "<link href=\"/assets/application-e2dff94212c11572ecbf79418dd0933d.css\" media=\"all\" rel=\"stylesheet\"/>\n",
       "<meta content=\"authenticity_token\" name=\"csrf-param\"/>\n",
       "<meta content=\"XMhXojbI0KBEk1nIZZSEffoFyhIalJUACOVHtK7cHV/pv5DQ1t1Bg8+ExKqj4hfersYFyhghwXoekTTYgvnZDw==\" name=\"csrf-token\"/>\n",
       "<!-- Global site tag (gtag.js) - Google Analytics -->\n",
       "<script async=\"\" src=\"https://www.googletagmanager.com/gtag/js?id=UA-1179606-29\"></script>\n",
       "<script>\n",
       "          window.dataLayer = window.dataLayer || [];\n",
       "          function gtag(){dataLayer.push(arguments);}\n",
       "          gtag('js', new Date());\n",
       "          gtag('config', 'UA-1179606-29');\n",
       "        </script>\n",
       "<script>\n",
       "          window.fbAsyncInit = function() {\n",
       "            FB.init({\n",
       "              appId            : '483774921971842',\n",
       "              autoLogAppEvents : true,\n",
       "              xfbml            : true,\n",
       "              version          : 'v6.0'\n",
       "            });\n",
       "          };\n",
       "        </script>\n",
       "<script async=\"\" defer=\"\" src=\"https://connect.facebook.net/en_US/sdk.js\"></script>\n",
       "<meta content=\"passiton.com\" property=\"og:site_name\"/>\n",
       "<meta content=\"Inspirational Quotes - Motivational Quotes - Leadership Quotes | Page 2\" property=\"og:title\"/>\n",
       "<meta content=\"website\" property=\"og:type\"/>\n",
       "<meta content=\"https://www.passiton.com/passiton.jpg\" property=\"og:image\"/>\n",
       "<meta content=\"https://www.passiton.com/inspirational-quotes?page=2\" property=\"og:url\"/>\n",
       "<meta content=\"Find the perfect quotation from our hand-picked collection of inspiring quotes by hundreds of authors. | Page 2\" property=\"og:description\"/>\n",
       "<meta content=\"483774921971842\" property=\"fb:app_id\"/>\n",
       "<meta content=\"summary_large_image\" name=\"twitter:card\"/>\n",
       "<meta content=\"@passiton\" name=\"twitter:site\"/>\n",
       "<meta content=\"@passiton\" name=\"twitter:creator\"/>\n",
       "<meta content=\"Inspirational Quotes - Motivational Quotes - Leadership Quotes | Page 2\" name=\"twitter:title\"/>\n",
       "<meta content=\"Find the perfect quotation from our hand-picked collection of inspiring quotes by hundreds of authors. | Page 2\" name=\"twitter:description\"/>\n",
       "<meta content=\"https://www.passiton.com/passiton.jpg\" name=\"twitter:image\"/>\n",
       "<meta content=\"https://www.passiton.com/inspirational-quotes?page=2\" name=\"twitter:url\"/>\n",
       "<meta content=\"passiton.com\" itemprop=\"name\"/>\n",
       "<meta content=\"Find the perfect quotation from our hand-picked collection of inspiring quotes by hundreds of authors. | Page 2\" itemprop=\"description\"/>\n",
       "<meta content=\"https://www.passiton.com/passiton.jpg\" itemprop=\"image\"/>\n",
       "<link href=\"/apple-touch-icon.png\" rel=\"apple-touch-icon\" sizes=\"180x180\"/>\n",
       "<link href=\"/favicon-32x32.png\" rel=\"icon\" sizes=\"32x32\" type=\"image/png\"/>\n",
       "<link href=\"/favicon-16x16.png\" rel=\"icon\" sizes=\"16x16\" type=\"image/png\"/>\n",
       "<link color=\"#C8102E\" href=\"/passiton_arrow.svg\" rel=\"mask-icon\"/>\n",
       "<link href=\"/manifest.json\" rel=\"manifest\"/>\n",
       "<link color=\"#5bbad5\" href=\"/safari-pinned-tab.svg\" rel=\"mask-icon\"/>\n",
       "<meta content=\"passiton\" name=\"apple-mobile-web-app-title\"/>\n",
       "<meta content=\"passiton\" name=\"application-name\"/>\n",
       "<meta content=\"#f1f1f1\" name=\"theme-color\"/>\n",
       "</head>\n",
       "<body class=\"no-transition quotes_index\">\n",
       "<header>\n",
       "<nav class=\"navbar navbar-default bootsnav navbar-fixed-top header-dark white-link background-transparent nav-box-width white-link navbar-expand-lg\">\n",
       "<div class=\"container-fluid nav-header-container\">\n",
       "<div class=\"col-auto pl-0\">\n",
       "<a class=\"logo\" href=\"/\" title=\"Pass It On®\"><img alt=\"Pass It On\" class=\"logo-dark\" data-rjs=\"/assets/site/logo@2x-77b9f4fa1e4bafa6ff119f8f162b7bd9.png\" src=\"/assets/site/logo-6d680decaadef58e4fbb586e147bc135.png\"/><img alt=\"Pass It On\" class=\"logo-light default\" data-rjs=\"/assets/site/logo-white@2x-82bf2486063a48e9207811cc7f6d5e5f.png\" src=\"/assets/site/logo-white-2d99f390ad2f6d3bbf59a52aadb55d60.png\"/></a>\n",
       "</div>\n",
       "<div class=\"col accordion-menu pr-0 pr-md-3\">\n",
       "<button class=\"navbar-toggler collapsed\" data-target=\"#navbar-collapse-toggle-1\" data-toggle=\"collapse\" type=\"button\">\n",
       "<span class=\"sr-only\">toggle navigation</span>\n",
       "<span class=\"icon-bar\"></span>\n",
       "<span class=\"icon-bar\"></span>\n",
       "<span class=\"icon-bar\"></span>\n",
       "</button>\n",
       "<div class=\"navbar-collapse collapse justify-content-end\" id=\"navbar-collapse-toggle-1\">\n",
       "<ul class=\"nav navbar-nav no-margin alt-font text-normal\" data-in=\"fadeIn\" data-out=\"fadeOut\" id=\"accordion\">\n",
       "<li><a href=\"/inspirational-quotes\">Quotes</a></li>\n",
       "<li><a href=\"/inspirational-stories-tv-spots\">Videos</a></li>\n",
       "<li class=\"dropdown simple-dropdown\"><a href=\"/inspirational-sayings-billboards\">Billboards <i aria-hidden=\"true\" class=\"fas fa-angle-down dropdown-toggle\" data-toggle=\"dropdown\"></i></a>\n",
       "<ul class=\"dropdown-menu\" role=\"menu\">\n",
       "<li><a href=\"/inspirational-sayings-billboards\">Official Billboards</a>\n",
       "</li><li><a href=\"/is-in-you\">Is In You® Billboards</a>\n",
       "</li><li><a href=\"/your-billboards\">Create Your Own Billboard</a>\n",
       "</li></ul>\n",
       "</li>\n",
       "<li><a href=\"/radio\">Radio Ads</a></li>\n",
       "<li class=\"dropdown simple-dropdown\"><a href=\"#\">Language <i aria-hidden=\"true\" class=\"fas fa-angle-down dropdown-toggle\" data-toggle=\"dropdown\"></i></a>\n",
       "<ul class=\"dropdown-menu\" role=\"menu\">\n",
       "<li><a href=\"https://www.pasala.org/\" target=\"_blank\">Spanish | Español</a>\n",
       "</li><li><a href=\"https://www.umavidamelhor.org/\" target=\"_blank\">Portuguese | Português</a>\n",
       "</li><li><a href=\"https://www.values.cn.com/\" target=\"_blank\">Chinese | 中文</a>\n",
       "</li></ul>\n",
       "</li>\n",
       "</ul>\n",
       "</div>\n",
       "</div>\n",
       "<div class=\"col-auto pr-0\">\n",
       "<div class=\"header-searchbar\">\n",
       "<a class=\"header-search-form\" href=\"#search-header\"><i class=\"fas fa-search search-button\"></i></a>\n",
       "<form action=\"/search\" class=\"mfp-hide search-form-result\" id=\"search-header\" method=\"post\" name=\"search-header\">\n",
       "<div class=\"search-form position-relative\">\n",
       "<button class=\"fas fa-search close-search search-button\" type=\"submit\"></button>\n",
       "<input autocomplete=\"off\" class=\"search-input\" name=\"q\" placeholder=\"Search passiton.com...\" type=\"text\"/>\n",
       "</div>\n",
       "</form>\n",
       "</div>\n",
       "<div class=\"header-social-icon d-none d-md-inline-block\">\n",
       "<a href=\"https://www.facebook.com/valuescom\" target=\"_blank\" title=\"Facebook\"><i aria-hidden=\"true\" class=\"fab fa-facebook-f\"></i></a>\n",
       "<a href=\"https://twitter.com/passiton_values\" target=\"_blank\" title=\"Twitter\"><i class=\"fab fa-twitter\"></i></a>\n",
       "<a href=\"https://www.instagram.com/passiton_values/\" target=\"_blank\" title=\"Instagram\"><i aria-hidden=\"true\" class=\"fab fa-instagram\"></i></a>\n",
       "<a href=\"https://www.pinterest.com/passiton_values/\" target=\"_blank\" title=\"Pinterest\"><i aria-hidden=\"true\" class=\"fab fa-pinterest\"></i></a>\n",
       "<a href=\"https://www.youtube.com/c/passiton_values\" target=\"_blank\" title=\"YouTube\"><i aria-hidden=\"true\" class=\"fab fa-youtube no-margin-right\"></i></a>\n",
       "</div>\n",
       "</div>\n",
       "</div>\n",
       "</nav>\n",
       "</header>\n",
       "<section class=\"parallax padding-six-all bg-black\" data-stellar-background-ratio=\"0.2\" style=\"background-image:url('/assets/backgrounds/flowers-8d19415bc3bc371f5beaed468d9a1970.jpg');\">\n",
       "<div class=\"container\">\n",
       "<div class=\"row justify-content-center\">\n",
       "<div class=\"col-12 col-lg-10 text-center\">\n",
       "<div class=\"shadow bg-extra-dark-gray padding-two-all border-radius-6 width-70 lg-width-80 sm-width-100 mx-auto lg-padding-30px-all sm-padding-15px-all sm-margin-40px-top\">\n",
       "<h6 class=\"font-weight-300 text-white-2 margin-20px-bottom sm-margin-15px-bottom\">Get our FREE daily quote emails!</h6>\n",
       "<p class=\"text-medium width-70 mx-auto margin-40px-bottom sm-width-100 sm-margin-15px-bottom\">Get a daily inspirational quote in your inbox each weekday! Enter your email below to subscribe.</p>\n",
       "<form accept-charset=\"UTF-8\" action=\"/users\" class=\"simple_form search-box3 margin-10px-bottom\" id=\"new_user\" method=\"post\" novalidate=\"novalidate\"><input name=\"utf8\" type=\"hidden\" value=\"✓\"/><input name=\"authenticity_token\" type=\"hidden\" value=\"KDMH5A9/7oyosFTe/RlF+bncCg7+L34hAWmeWp+kPOydRMCW72p/ryOnybw7b9Za7R/F1vyaKlsXHe02s4H4vA==\"/>\n",
       "<div class=\"input-group add-on width-75 mx-auto sm-width-100\">\n",
       "<input class=\"string email optional form-control text-white\" id=\"user_email\" label=\"false\" name=\"user[email]\" placeholder=\"you@your-email.com\" type=\"text\"/>\n",
       "<script src=\"https://www.recaptcha.net/recaptcha/api.js?render=6Ldta8EUAAAAACp3yt76yG8QWMdQkpDBkP1bcHi6\"></script>\n",
       "<script>\n",
       "          // Define function so that we can call it again later if we need to reset it\n",
       "          // This executes reCAPTCHA and then calls our callback.\n",
       "          function executeRecaptchaForQuote() {\n",
       "            grecaptcha.ready(function() {\n",
       "              grecaptcha.execute('6Ldta8EUAAAAACp3yt76yG8QWMdQkpDBkP1bcHi6', {action: 'quote'}).then(function(token) {\n",
       "                setInputWithRecaptchaResponseTokenForQuote('g-recaptcha-response-data-quote', token)\n",
       "              });\n",
       "            });\n",
       "          };\n",
       "          // Invoke immediately\n",
       "          executeRecaptchaForQuote()\n",
       "\n",
       "          // Async variant so you can await this function from another async function (no need for\n",
       "          // an explicit callback function then!)\n",
       "          // Returns a Promise that resolves with the response token.\n",
       "          async function executeRecaptchaForQuoteAsync() {\n",
       "            return new Promise((resolve, reject) => {\n",
       "              grecaptcha.ready(async function() {\n",
       "                resolve(await grecaptcha.execute('6Ldta8EUAAAAACp3yt76yG8QWMdQkpDBkP1bcHi6', {action: 'quote'}))\n",
       "              });\n",
       "            })\n",
       "          };\n",
       "\n",
       "                    var setInputWithRecaptchaResponseTokenForQuote = function(id, token) {\n",
       "            var element = document.getElementById(id);\n",
       "            element.value = token;\n",
       "          }\n",
       "\n",
       "        </script>\n",
       "<input class=\"g-recaptcha g-recaptcha-response\" data-sitekey=\"6Ldta8EUAAAAACp3yt76yG8QWMdQkpDBkP1bcHi6\" id=\"g-recaptcha-response-data-quote\" name=\"g-recaptcha-response-data[quote]\" type=\"hidden\"/>\n",
       "<div class=\"input-group-append\">\n",
       "<button class=\"btn btn-default\" type=\"submit\"><i class=\"ti-arrow-right text-small m-0\"></i></button>\n",
       "</div>\n",
       "</div>\n",
       "</form>\n",
       "</div>\n",
       "</div>\n",
       "</div>\n",
       "</div>\n",
       "</section>\n",
       "<section class=\"half-section bg-extra-dark-gray half-section\">\n",
       "<div class=\"container\">\n",
       "<div class=\"row m-0\">\n",
       "<div class=\"col-12 d-flex flex-column justify-content-center text-center wow fadeIn\" data-wow-delay=\"0.2s\">\n",
       "<h5 class=\"text-white alt-font font-weight-400 letter-spacing-1 margin-10px-bottom\">INSPIRATIONAL QUOTES</h5>\n",
       "<span class=\"text-white-2 opacity8 alt-font mb-0 padding-20px-bottom\">Find the perfect quote... and Pass It On®</span>\n",
       "<form action=\"/inspirational-quotes\" class=\"search-box2 margin-30px-bottom\" method=\"get\">\n",
       "<div class=\"input-group add-on width-75 mx-auto sm-width-100\">\n",
       "<input class=\"form-control\" name=\"q\" placeholder=\"Search our inspiring quotes...\" type=\"text\" value=\"\"/>\n",
       "<div class=\"input-group-append\">\n",
       "<button class=\"btn btn-default\" type=\"submit\"><i class=\"ti-search text-small m-0\"></i></button>\n",
       "</div>\n",
       "</div>\n",
       "</form>\n",
       "</div>\n",
       "</div>\n",
       "<div class=\"row\" id=\"all_quotes\">\n",
       "<div class=\"col-6 col-lg-3 text-center margin-30px-bottom sm-margin-30px-top\">\n",
       "<a href=\"/inspirational-quotes/6378-now-is-no-time-to-think-of-what-you-do-not\"><img alt=\"Now is no time to think of what you do not have. Think of what you can do with what there is.  #&lt;Author:0x00007f5e90877e18&gt;\" class=\"margin-10px-bottom shadow\" height=\"310\" src=\"https://assets.passiton.com/quotes/quote_artwork/6378/medium/20200520_wednesday_quote.jpg?1589574757\" width=\"310\"/></a>\n",
       "<h5 class=\"value_on_red\"><a href=\"/inspirational-quotes/6378-now-is-no-time-to-think-of-what-you-do-not\">GRATITUDE</a></h5>\n",
       "</div><div class=\"col-6 col-lg-3 text-center margin-30px-bottom sm-margin-30px-top\">\n",
       "<a href=\"/inspirational-quotes/8072-today-i-choose-to-live-with-gratitude-for-the\"><img alt=\"Today I choose to live with gratitude for the love that fills my heart, the peace that rests within my spirit, and the voice of hope that says all things are possible. #&lt;Author:0x00007f5e9089fda0&gt;\" class=\"margin-10px-bottom shadow\" height=\"310\" src=\"https://assets.passiton.com/quotes/quote_artwork/8072/medium/20200519_tuesday_quote.jpg?1589574728\" width=\"310\"/></a>\n",
       "<h5 class=\"value_on_red\"><a href=\"/inspirational-quotes/8072-today-i-choose-to-live-with-gratitude-for-the\">GRATITUDE</a></h5>\n",
       "</div><div class=\"col-6 col-lg-3 text-center margin-30px-bottom sm-margin-30px-top\">\n",
       "<a href=\"/inspirational-quotes/8071-if-you-concentrate-on-finding-whatever-is-good\"><img alt=\"If you concentrate on finding whatever is good in every situation, you will discover that your life will suddenly be filled with gratitude, a feeling that nurtures the soul. #&lt;Author:0x00007f5e908c5d48&gt;\" class=\"margin-10px-bottom shadow\" height=\"310\" src=\"https://assets.passiton.com/quotes/quote_artwork/8071/medium/20200518_monday_quote.jpg?1589574705\" width=\"310\"/></a>\n",
       "<h5 class=\"value_on_red\"><a href=\"/inspirational-quotes/8071-if-you-concentrate-on-finding-whatever-is-good\">GRATITUDE</a></h5>\n",
       "</div><div class=\"col-6 col-lg-3 text-center margin-30px-bottom sm-margin-30px-top\">\n",
       "<a href=\"/inspirational-quotes/8070-it-is-literally-true-that-you-can-succeed-best\"><img alt=\"It is literally true that you can succeed best and quickest by helping others to succeed. #&lt;Author:0x00007f5e908f2b18&gt;\" class=\"margin-10px-bottom shadow\" height=\"310\" src=\"https://assets.passiton.com/quotes/quote_artwork/8070/medium/20200515_friday_quote.jpg?1588967471\" width=\"310\"/></a>\n",
       "<h5 class=\"value_on_red\"><a href=\"/inspirational-quotes/8070-it-is-literally-true-that-you-can-succeed-best\">PULL TOGETHER</a></h5>\n",
       "</div><div class=\"col-6 col-lg-3 text-center margin-30px-bottom sm-margin-30px-top\">\n",
       "<a href=\"/inspirational-quotes/5429-the-way-a-team-plays-as-a-whole-determines-its\"><img alt=\"The way a team plays as a whole determines its success. You may have the greatest bunch of individual stars in the world, but if they don't play together, the club won't be worth a dime. #&lt;Author:0x00007f5e90917800&gt;\" class=\"margin-10px-bottom shadow\" height=\"310\" src=\"https://assets.passiton.com/quotes/quote_artwork/5429/medium/20200514_thursday_quote.jpg?1588967448\" width=\"310\"/></a>\n",
       "<h5 class=\"value_on_red\"><a href=\"/inspirational-quotes/5429-the-way-a-team-plays-as-a-whole-determines-its\">PULL TOGETHER</a></h5>\n",
       "</div><div class=\"col-6 col-lg-3 text-center margin-30px-bottom sm-margin-30px-top\">\n",
       "<a href=\"/inspirational-quotes/7245-never-doubt-that-a-small-group-of-thoughtful\"><img alt=\"Never doubt that a small group of thoughtful, committed citizens can change the world; indeed, it’s the only thing that ever has. #&lt;Author:0x00007f5e90943068&gt;\" class=\"margin-10px-bottom shadow\" height=\"310\" src=\"https://assets.passiton.com/quotes/quote_artwork/7245/medium/20200513_wednesday_quote.jpg?1588967426\" width=\"310\"/></a>\n",
       "<h5 class=\"value_on_red\"><a href=\"/inspirational-quotes/7245-never-doubt-that-a-small-group-of-thoughtful\">PULL TOGETHER</a></h5>\n",
       "</div><div class=\"col-6 col-lg-3 text-center margin-30px-bottom sm-margin-30px-top\">\n",
       "<a href=\"/inspirational-quotes/5572-cooperation-is-the-thorough-conviction-that\"><img alt=\"Cooperation is the thorough conviction that nobody can get there unless everybody gets there. #&lt;Author:0x00007f5e9095c6a8&gt;\" class=\"margin-10px-bottom shadow\" height=\"310\" src=\"https://assets.passiton.com/quotes/quote_artwork/5572/medium/20200512_tuesday_quote.jpg?1588967401\" width=\"310\"/></a>\n",
       "<h5 class=\"value_on_red\"><a href=\"/inspirational-quotes/5572-cooperation-is-the-thorough-conviction-that\">PULL TOGETHER</a></h5>\n",
       "</div><div class=\"col-6 col-lg-3 text-center margin-30px-bottom sm-margin-30px-top\">\n",
       "<a href=\"/inspirational-quotes/8069-one-person-seeking-glory-doesnt-accomplish\"><img alt=\"One person seeking glory doesn't accomplish much. Success is the result of people pulling together to meet common goals. #&lt;Author:0x00007f5e9098a3c8&gt;\" class=\"margin-10px-bottom shadow\" height=\"310\" src=\"https://assets.passiton.com/quotes/quote_artwork/8069/medium/20200511_monday_quote.jpg?1588967374\" width=\"310\"/></a>\n",
       "<h5 class=\"value_on_red\"><a href=\"/inspirational-quotes/8069-one-person-seeking-glory-doesnt-accomplish\">PULL TOGETHER</a></h5>\n",
       "</div><div class=\"col-6 col-lg-3 text-center margin-30px-bottom sm-margin-30px-top\">\n",
       "<a href=\"/inspirational-quotes/8067-you-can-always-always-give-something-even-if\"><img alt=\"You can always, always give something, even if it is only kindness! #&lt;Author:0x00007f5e909a4638&gt;\" class=\"margin-10px-bottom shadow\" height=\"310\" src=\"https://assets.passiton.com/quotes/quote_artwork/8067/medium/20200508_friday_quote.jpg?1588365422\" width=\"310\"/></a>\n",
       "<h5 class=\"value_on_red\"><a href=\"/inspirational-quotes/8067-you-can-always-always-give-something-even-if\">KINDNESS</a></h5>\n",
       "</div><div class=\"col-6 col-lg-3 text-center margin-30px-bottom sm-margin-30px-top\">\n",
       "<a href=\"/inspirational-quotes/8068-kindness-is-the-mark-we-leave-on-the-world\"><img alt=\"Kindness is the mark we leave on the world. #&lt;Author:0x00007f5e909cda10&gt;\" class=\"margin-10px-bottom shadow\" height=\"310\" src=\"https://assets.passiton.com/quotes/quote_artwork/8068/medium/20200507_thursday_quote_alternate.jpg?1588368026\" width=\"310\"/></a>\n",
       "<h5 class=\"value_on_red\"><a href=\"/inspirational-quotes/8068-kindness-is-the-mark-we-leave-on-the-world\">KINDNESS</a></h5>\n",
       "</div><div class=\"col-6 col-lg-3 text-center margin-30px-bottom sm-margin-30px-top\">\n",
       "<a href=\"/inspirational-quotes/8066-love-and-kindness-are-never-wasted-they-always\"><img alt=\"Love and kindness are never wasted. They always make a difference. They bless the one who receives them, and they bless you, the giver. #&lt;Author:0x00007f5e909f7a68&gt;\" class=\"margin-10px-bottom shadow\" height=\"310\" src=\"https://assets.passiton.com/quotes/quote_artwork/8066/medium/20200506_wednesday_quote.jpg?1588365394\" width=\"310\"/></a>\n",
       "<h5 class=\"value_on_red\"><a href=\"/inspirational-quotes/8066-love-and-kindness-are-never-wasted-they-always\">KINDNESS</a></h5>\n",
       "</div><div class=\"col-6 col-lg-3 text-center margin-30px-bottom sm-margin-30px-top\">\n",
       "<a href=\"/inspirational-quotes/8065-you-can-accomplish-by-kindness-what-you-cannot\"><img alt=\"You can accomplish by kindness what you cannot by force. #&lt;Author:0x00007f5e90a12548&gt;\" class=\"margin-10px-bottom shadow\" height=\"310\" src=\"https://assets.passiton.com/quotes/quote_artwork/8065/medium/20200505_tuesday_quote.jpg?1588365360\" width=\"310\"/></a>\n",
       "<h5 class=\"value_on_red\"><a href=\"/inspirational-quotes/8065-you-can-accomplish-by-kindness-what-you-cannot\">KINDNESS</a></h5>\n",
       "</div><div class=\"col-6 col-lg-3 text-center margin-30px-bottom sm-margin-30px-top\">\n",
       "<a href=\"/inspirational-quotes/7838-unexpected-kindness-is-the-most-powerful-least\"><img alt=\"Unexpected kindness is the most powerful, least costly, and most underrated agent of human change. #&lt;Author:0x00007f5e90a350c0&gt;\" class=\"margin-10px-bottom shadow\" height=\"310\" src=\"https://assets.passiton.com/quotes/quote_artwork/7838/medium/20200504_monday_quote.jpg?1588365331\" width=\"310\"/></a>\n",
       "<h5 class=\"value_on_red\"><a href=\"/inspirational-quotes/7838-unexpected-kindness-is-the-most-powerful-least\">KINDNESS</a></h5>\n",
       "</div><div class=\"col-6 col-lg-3 text-center margin-30px-bottom sm-margin-30px-top\">\n",
       "<a href=\"/inspirational-quotes/7410-you-may-encounter-many-defeats-but-you-must\"><img alt=\"You may encounter many defeats, but you must not be defeated. In fact, it may be necessary to encounter the defeats, so you can know who you are, what you can rise from, how you can still come out of it. #&lt;Author:0x00007f5e90a62160&gt;\" class=\"margin-10px-bottom shadow\" height=\"310\" src=\"https://assets.passiton.com/quotes/quote_artwork/7410/medium/20200501_friday_quote.jpg?1587752957\" width=\"310\"/></a>\n",
       "<h5 class=\"value_on_red\"><a href=\"/inspirational-quotes/7410-you-may-encounter-many-defeats-but-you-must\">OVERCOMING</a></h5>\n",
       "</div><div class=\"col-6 col-lg-3 text-center margin-30px-bottom sm-margin-30px-top\">\n",
       "<a href=\"/inspirational-quotes/8064-your-attitude-towards-problems-difficulties\"><img alt=\"Your attitude towards problems, difficulties, and adversities is the most important factor in overcoming them. #&lt;Author:0x00007f5e90a8bdf8&gt;\" class=\"margin-10px-bottom shadow\" height=\"310\" src=\"https://assets.passiton.com/quotes/quote_artwork/8064/medium/20200430_thursday_quote.jpg?1587752929\" width=\"310\"/></a>\n",
       "<h5 class=\"value_on_red\"><a href=\"/inspirational-quotes/8064-your-attitude-towards-problems-difficulties\">OVERCOMING</a></h5>\n",
       "</div><div class=\"col-6 col-lg-3 text-center margin-30px-bottom sm-margin-30px-top\">\n",
       "<a href=\"/inspirational-quotes/5390-when-you-get-in-a-tight-place-and-everything\"><img alt=\"When you get in a tight place and everything goes against you, till it seems as though you could not hold on a minute longer, never give up then, for that is just the place and time that the tide will turn. #&lt;Author:0x00007f5e90acd500&gt;\" class=\"margin-10px-bottom shadow\" height=\"310\" src=\"https://assets.passiton.com/quotes/quote_artwork/5390/medium/20200429_wednesday_quote.jpg?1587752872\" width=\"310\"/></a>\n",
       "<h5 class=\"value_on_red\"><a href=\"/inspirational-quotes/5390-when-you-get-in-a-tight-place-and-everything\">OVERCOMING</a></h5>\n",
       "</div><div class=\"col-6 col-lg-3 text-center margin-30px-bottom sm-margin-30px-top\">\n",
       "<a href=\"/inspirational-quotes/7681-success-is-to-be-measured-not-so-much-by-the\"><img alt=\"Success is to be measured not so much by the position that one has reached in life as by the obstacles which they have overcome. #&lt;Author:0x00007f5e90b29a58&gt;\" class=\"margin-10px-bottom shadow\" height=\"310\" src=\"https://assets.passiton.com/quotes/quote_artwork/7681/medium/20200428_tuesday_quote_alternate.jpg?1587761536\" width=\"310\"/></a>\n",
       "<h5 class=\"value_on_red\"><a href=\"/inspirational-quotes/7681-success-is-to-be-measured-not-so-much-by-the\">OVERCOMING</a></h5>\n",
       "</div><div class=\"col-6 col-lg-3 text-center margin-30px-bottom sm-margin-30px-top\">\n",
       "<a href=\"/inspirational-quotes/8063-strength-doesnt-come-from-what-you-can-do-it\"><img alt=\"Strength doesn't come from what you can do. It comes from overcoming the things you once thought you couldn't. #&lt;Author:0x00007f5e90b44038&gt;\" class=\"margin-10px-bottom shadow\" height=\"310\" src=\"https://assets.passiton.com/quotes/quote_artwork/8063/medium/20200427_monday_quote.jpg?1587752821\" width=\"310\"/></a>\n",
       "<h5 class=\"value_on_red\"><a href=\"/inspirational-quotes/8063-strength-doesnt-come-from-what-you-can-do-it\">OVERCOMING</a></h5>\n",
       "</div><div class=\"col-6 col-lg-3 text-center margin-30px-bottom sm-margin-30px-top\">\n",
       "<a href=\"/inspirational-quotes/7175-hope-begins-in-the-dark-the-stubborn-hope-that\"><img alt=\"Hope begins in the dark, the stubborn hope that if you just show up and try to do the right thing, the dawn will come. You wait and watch and work: you don't give up. #&lt;Author:0x00007f5e90b91630&gt;\" class=\"margin-10px-bottom shadow\" height=\"310\" src=\"https://assets.passiton.com/quotes/quote_artwork/7175/medium/20200424_friday_quote.jpg?1587169105\" width=\"310\"/></a>\n",
       "<h5 class=\"value_on_red\"><a href=\"/inspirational-quotes/7175-hope-begins-in-the-dark-the-stubborn-hope-that\">HOPE</a></h5>\n",
       "</div><div class=\"col-6 col-lg-3 text-center margin-30px-bottom sm-margin-30px-top\">\n",
       "<a href=\"/inspirational-quotes/7580-let-your-hopes-not-your-hurts-shape-your-future\"><img alt=\"Let your hopes, not your hurts, shape your future. #&lt;Author:0x00007f5e90bba468&gt;\" class=\"margin-10px-bottom shadow\" height=\"310\" src=\"https://assets.passiton.com/quotes/quote_artwork/7580/medium/20200423_thursday_quote.jpg?1587169080\" width=\"310\"/></a>\n",
       "<h5 class=\"value_on_red\"><a href=\"/inspirational-quotes/7580-let-your-hopes-not-your-hurts-shape-your-future\">HOPE</a></h5>\n",
       "</div><div class=\"col-6 col-lg-3 text-center margin-30px-bottom sm-margin-30px-top\">\n",
       "<a href=\"/inspirational-quotes/4818-hope-is-not-pretending-that-troubles-dont\"><img alt=\"Hope is not pretending that troubles don't exist. It is the hope that they won't last forever. That hurts will be healed and difficulties overcome. That we will be led out of the darkness and into the sunshine. #&lt;Author:0x00007f5e90be3d90&gt;\" class=\"margin-10px-bottom shadow\" height=\"310\" src=\"https://assets.passiton.com/quotes/quote_artwork/4818/medium/20200422_wednesday_quote.jpg?1587169052\" width=\"310\"/></a>\n",
       "<h5 class=\"value_on_red\"><a href=\"/inspirational-quotes/4818-hope-is-not-pretending-that-troubles-dont\">HOPE</a></h5>\n",
       "</div><div class=\"col-6 col-lg-3 text-center margin-30px-bottom sm-margin-30px-top\">\n",
       "<a href=\"/inspirational-quotes/8062-they-say-a-person-needs-just-three-things-to-be\"><img alt=\"They say a person needs just three things to be happy in this world: someone to love, something to do, and something to hope for. #&lt;Author:0x00007f5e90c00c60&gt;\" class=\"margin-10px-bottom shadow\" height=\"310\" src=\"https://assets.passiton.com/quotes/quote_artwork/8062/medium/20200421_tuesday_quote.jpg?1587228038\" width=\"310\"/></a>\n",
       "<h5 class=\"value_on_red\"><a href=\"/inspirational-quotes/8062-they-say-a-person-needs-just-three-things-to-be\">HOPE</a></h5>\n",
       "</div><div class=\"col-6 col-lg-3 text-center margin-30px-bottom sm-margin-30px-top\">\n",
       "<a href=\"/inspirational-quotes/8061-hope-is-important-because-it-can-make-the\"><img alt=\"Hope is important because it can make the present moment less difficult to bear. If we believe that tomorrow will be better, we can bear a hardship today. #&lt;Author:0x00007f5e90c24d68&gt;\" class=\"margin-10px-bottom shadow\" height=\"310\" src=\"https://assets.passiton.com/quotes/quote_artwork/8061/medium/20200420_monday_quote.jpg?1587168982\" width=\"310\"/></a>\n",
       "<h5 class=\"value_on_red\"><a href=\"/inspirational-quotes/8061-hope-is-important-because-it-can-make-the\">HOPE</a></h5>\n",
       "</div><div class=\"col-6 col-lg-3 text-center margin-30px-bottom sm-margin-30px-top\">\n",
       "<a href=\"/inspirational-quotes/7300-courage-doesnt-always-roar-sometimes-courage\"><img alt=\"Courage doesn't always roar. Sometimes courage is the little voice at the end of the day that says I'll try again tomorrow. #&lt;Author:0x00007f5e90caba70&gt;\" class=\"margin-10px-bottom shadow\" height=\"310\" src=\"https://assets.passiton.com/quotes/quote_artwork/7300/medium/20200417_friday_quote.jpg?1586626081\" width=\"310\"/></a>\n",
       "<h5 class=\"value_on_red\"><a href=\"/inspirational-quotes/7300-courage-doesnt-always-roar-sometimes-courage\">COURAGE</a></h5>\n",
       "</div><div class=\"col-6 col-lg-3 text-center margin-30px-bottom sm-margin-30px-top\">\n",
       "<a href=\"/inspirational-quotes/8059-courage-is-contagious-every-time-we-choose\"><img alt=\"Courage is contagious. Every time we choose courage, we make everyone around us a little better and the world a little braver. #&lt;Author:0x00007f5e90cc01a0&gt;\" class=\"margin-10px-bottom shadow\" height=\"310\" src=\"https://assets.passiton.com/quotes/quote_artwork/8059/medium/20200416_thursday_quote.jpg?1586626047\" width=\"310\"/></a>\n",
       "<h5 class=\"value_on_red\"><a href=\"/inspirational-quotes/8059-courage-is-contagious-every-time-we-choose\">COURAGE</a></h5>\n",
       "</div><div class=\"col-6 col-lg-3 text-center margin-30px-bottom sm-margin-30px-top\">\n",
       "<a href=\"/inspirational-quotes/6173-if-the-world-is-to-be-healed-through-human\"><img alt=\"If the world is to be healed through human efforts, I am convinced it will be by ordinary people, people whose love for this life is even greater than their fear.  #&lt;Author:0x00007f5e90d4f328&gt;\" class=\"margin-10px-bottom shadow\" height=\"310\" src=\"https://assets.passiton.com/quotes/quote_artwork/6173/medium/20200415_wednesday_quote.jpg?1586626019\" width=\"310\"/></a>\n",
       "<h5 class=\"value_on_red\"><a href=\"/inspirational-quotes/6173-if-the-world-is-to-be-healed-through-human\">COURAGE</a></h5>\n",
       "</div><div class=\"col-6 col-lg-3 text-center margin-30px-bottom sm-margin-30px-top\">\n",
       "<a href=\"/inspirational-quotes/8060-courage-is-the-most-important-of-all-the\"><img alt=\"Courage is the most important of all the virtues because without courage, you can't practice any other virtue consistently. #&lt;Author:0x00007f5e90d86fa8&gt;\" class=\"margin-10px-bottom shadow\" height=\"310\" src=\"https://assets.passiton.com/quotes/quote_artwork/8060/medium/20200414_tuesday_quote.jpg?1586626879\" width=\"310\"/></a>\n",
       "<h5 class=\"value_on_red\"><a href=\"/inspirational-quotes/8060-courage-is-the-most-important-of-all-the\">COURAGE</a></h5>\n",
       "</div><div class=\"col-6 col-lg-3 text-center margin-30px-bottom sm-margin-30px-top\">\n",
       "<a href=\"/inspirational-quotes/7302-courage-is-what-it-takes-to-stand-up-and-speak\"><img alt=\"Courage is what it takes to stand up and speak; courage is also what it takes to sit down and listen. #&lt;Author:0x00007f5e90da9828&gt;\" class=\"margin-10px-bottom shadow\" height=\"310\" src=\"https://assets.passiton.com/quotes/quote_artwork/7302/medium/20200413_monday_quote.jpg?1586625965\" width=\"310\"/></a>\n",
       "<h5 class=\"value_on_red\"><a href=\"/inspirational-quotes/7302-courage-is-what-it-takes-to-stand-up-and-speak\">COURAGE</a></h5>\n",
       "</div><div class=\"col-6 col-lg-3 text-center margin-30px-bottom sm-margin-30px-top\">\n",
       "<a href=\"/inspirational-quotes/8057-our-true-work-is-not-our-job-that-is-what-we\"><img alt=\"Our true work is not our job, that is what we do, not what we were created to do. Our true work is to look after each other, to protect each other and to be of benefit to one another. #&lt;Author:0x00007f5e90dc5938&gt;\" class=\"margin-10px-bottom shadow\" height=\"310\" src=\"https://assets.passiton.com/quotes/quote_artwork/8057/medium/20200410_friday_quote.jpg?1585942901\" width=\"310\"/></a>\n",
       "<h5 class=\"value_on_red\"><a href=\"/inspirational-quotes/8057-our-true-work-is-not-our-job-that-is-what-we\">HELPING OTHERS</a></h5>\n",
       "</div><div class=\"col-6 col-lg-3 text-center margin-30px-bottom sm-margin-30px-top\">\n",
       "<a href=\"/inspirational-quotes/7088-in-the-time-we-have-it-is-surely-our-duty-to-do\"><img alt=\"In the time we have it is surely our duty to do all the good we can to all the people we can in all the ways we can.  #&lt;Author:0x00007f5e90de5558&gt;\" class=\"margin-10px-bottom shadow\" height=\"310\" src=\"https://assets.passiton.com/quotes/quote_artwork/7088/medium/20200409_thursday_quote.jpg?1585942860\" width=\"310\"/></a>\n",
       "<h5 class=\"value_on_red\"><a href=\"/inspirational-quotes/7088-in-the-time-we-have-it-is-surely-our-duty-to-do\">HELPING OTHERS</a></h5>\n",
       "</div><div class=\"col-6 col-lg-3 text-center margin-30px-bottom sm-margin-30px-top\">\n",
       "<a href=\"/inspirational-quotes/7014-to-help-yourself-help-others-whatever-good\"><img alt=\"To help yourself, help others. Whatever good you do travels a circle and returns to you many times over- but remember, life isn't about what you get, it's about what you become. #&lt;Author:0x00007f5e90e09d90&gt;\" class=\"margin-10px-bottom shadow\" height=\"310\" src=\"https://assets.passiton.com/quotes/quote_artwork/7014/medium/20200408_wednesday_quote.jpg?1585942830\" width=\"310\"/></a>\n",
       "<h5 class=\"value_on_red\"><a href=\"/inspirational-quotes/7014-to-help-yourself-help-others-whatever-good\">HELPING OTHERS</a></h5>\n",
       "</div><div class=\"col-6 col-lg-3 text-center margin-30px-bottom sm-margin-30px-top\">\n",
       "<a href=\"/inspirational-quotes/3700-great-opportunities-to-help-others-seldom-come\"><img alt=\"Great opportunities to help others seldom come, but small ones surround us every day. #&lt;Author:0x00007f5e90e7c3e0&gt;\" class=\"margin-10px-bottom shadow\" height=\"310\" src=\"https://assets.passiton.com/quotes/quote_artwork/3700/medium/20200407_tuesday_quote.jpg?1585942776\" width=\"310\"/></a>\n",
       "<h5 class=\"value_on_red\"><a href=\"/inspirational-quotes/3700-great-opportunities-to-help-others-seldom-come\">HELPING OTHERS</a></h5>\n",
       "</div>\n",
       "</div>\n",
       "<div class=\"row\">\n",
       "<div class=\"col-12 text-center\">\n",
       "<div class=\"quotes_pagination\"><a class=\"previous_page\" href=\"/inspirational-quotes?page=1\" rel=\"prev\">← Previous</a> <a href=\"/inspirational-quotes?page=1\" rel=\"prev\">1</a> <em class=\"current\">2</em> <a href=\"/inspirational-quotes?page=3\" rel=\"next\">3</a> <a href=\"/inspirational-quotes?page=4\">4</a> <a href=\"/inspirational-quotes?page=5\">5</a> <a href=\"/inspirational-quotes?page=6\">6</a> <a href=\"/inspirational-quotes?page=7\">7</a> <a href=\"/inspirational-quotes?page=8\">8</a> <a href=\"/inspirational-quotes?page=9\">9</a> <span class=\"gap\">…</span> <a href=\"/inspirational-quotes?page=117\">117</a> <a href=\"/inspirational-quotes?page=118\">118</a> <a class=\"next_page\" href=\"/inspirational-quotes?page=3\" rel=\"next\">Next →</a></div>\n",
       "</div>\n",
       "</div>\n",
       "</div>\n",
       "</section>\n",
       "<footer class=\"footer-classic-dark bg-extra-dark-gray padding-five-bottom sm-padding-30px-bottom\">\n",
       "<div class=\"bg-dark-footer padding-50px-tb sm-padding-30px-tb\">\n",
       "<div class=\"container\">\n",
       "<div class=\"row align-items-center\">\n",
       "<div class=\"col-lg-4 col-md-5 text-center alt-font sm-margin-15px-bottom\">\n",
       "                    Pass It On<sup>®</sup>\n",
       "</div>\n",
       "<div class=\"col-lg-4 col-md-2 text-center sm-margin-10px-bottom\">\n",
       "<a href=\"/\"><img alt=\"The Foundation for a Better Life\" class=\"footer-logo\" data-rjs=\"/assets/site/fbl_logo-b50da7cb3567063fca4dec74f28f07c4.png\" src=\"/assets/site/fbl_logo-b50da7cb3567063fca4dec74f28f07c4.png\"/></a>\n",
       "</div>\n",
       "<div class=\"col-lg-4 col-md-5 text-center\">\n",
       "<span class=\"alt-font margin-20px-right\">Follow us on social</span>\n",
       "<div class=\"social-icon-style-8 d-inline-block vertical-align-middle\">\n",
       "<ul class=\"small-icon mb-0\">\n",
       "<li><a class=\"facebook text-white-2\" href=\"https://www.facebook.com/valuescom\" target=\"_blank\"><i aria-hidden=\"true\" class=\"fab fa-facebook-f\"></i></a></li>\n",
       "<li><a class=\"twitter text-white-2\" href=\"https://twitter.com/passiton_values\" target=\"_blank\"><i class=\"fab fa-twitter\"></i></a></li>\n",
       "<li><a class=\"instagram text-white-2\" href=\"https://www.instagram.com/passiton_values/\" target=\"_blank\"><i aria-hidden=\"true\" class=\"fab fa-instagram no-margin-right\"></i></a></li>\n",
       "<li><a class=\"pinterest text-white-2\" href=\"https://www.pinterest.com/passiton_values/\" target=\"_blank\"><i aria-hidden=\"true\" class=\"fab fa-pinterest no-margin-right\"></i></a></li>\n",
       "<li><a class=\"youtube text-white-2\" href=\"https://www.youtube.com/c/passiton_values\" target=\"_blank\"><i aria-hidden=\"true\" class=\"fab fa-youtube no-margin-right\"></i></a></li>\n",
       "</ul>\n",
       "</div>\n",
       "</div>\n",
       "</div>\n",
       "</div>\n",
       "</div>\n",
       "<div class=\"footer-widget-area padding-five-top padding-30px-bottom sm-padding-30px-top\">\n",
       "<div class=\"container\">\n",
       "<div class=\"row\">\n",
       "<div class=\"col-lg-3 col-md-6 widget border-right border-color-medium-dark-gray padding-45px-left md-padding-15px-left md-no-border-right md-margin-30px-bottom text-center text-md-left\">\n",
       "<div class=\"widget-title alt-font text-small text-medium-gray text-uppercase margin-10px-bottom font-weight-600\">About Us</div>\n",
       "<ul class=\"list-unstyled\">\n",
       "<li><a class=\"text-small\" href=\"/who-we-are\">About The Foundation for a Better Life</a></li>\n",
       "<li><a class=\"text-small\" href=\"/faqs\">FAQs</a></li>\n",
       "<li><a class=\"text-small\" href=\"/foundation-recognition\">Foundation Recognition</a></li>\n",
       "<li><a class=\"text-small\" href=\"/contact-us\">Contact Us</a></li>\n",
       "</ul>\n",
       "</div>\n",
       "<div class=\"col-lg-3 col-md-6 widget border-right border-color-medium-dark-gray padding-45px-left md-padding-15px-left md-no-border-right md-margin-30px-bottom text-center text-md-left\">\n",
       "<div class=\"widget-title alt-font text-small text-medium-gray text-uppercase margin-10px-bottom font-weight-600\">Be Inspired</div>\n",
       "<ul class=\"list-unstyled\">\n",
       "<li><a class=\"text-small\" href=\"/teaching-values\">Teaching Values</a></li>\n",
       "<li><a class=\"text-small\" href=\"/inspirational-quotes\">Inspirational Quotations</a></li>\n",
       "<li><a class=\"text-small\" href=\"/inspirational-stories-tv-spots\">Pass It On® Videos</a></li>\n",
       "<li><a class=\"text-small\" href=\"/your-everyday-heroes\">Who's Your Hero Stories</a></li>\n",
       "<li><a class=\"text-small\" href=\"/inspirational-sayings-billboards\">Official Billboard Campaign</a></li>\n",
       "<li><a class=\"text-small\" href=\"/your-billboards\">Create Your Own Billboard</a></li>\n",
       "<li><a class=\"text-small\" href=\"/radio\">Radio Ads</a></li>\n",
       "<li><a class=\"text-small\" href=\"/inspirational-audio-stories\">Podcasts</a></li>\n",
       "<li><a class=\"text-small\" href=\"/pass-it-on-ecards\">Send an Ecard</a></li>\n",
       "</ul>\n",
       "</div>\n",
       "<div class=\"col-lg-3 col-md-6 widget border-right border-color-medium-dark-gray padding-45px-left md-padding-15px-left md-no-border-right md-margin-30px-bottom text-center text-md-left\">\n",
       "<div class=\"widget-title alt-font text-small text-medium-gray text-uppercase margin-10px-bottom font-weight-600\">For Schools</div>\n",
       "<ul class=\"list-unstyled\">\n",
       "<li><a class=\"text-small\" href=\"/poster-requests/new\">Free Posters &amp; DVD for Schools</a></li>\n",
       "<li><a class=\"text-small\" href=\"/pass-it-on-downloads\">Downloads</a></li>\n",
       "</ul>\n",
       "</div>\n",
       "<div class=\"col-lg-3 col-md-6 widget padding-45px-left md-padding-15px-left md-no-border-right md-margin-30px-bottom text-center text-md-left\">\n",
       "<div class=\"widget-title alt-font text-small text-medium-gray text-uppercase margin-10px-bottom font-weight-600\">For Media Companies</div>\n",
       "<ul class=\"list-unstyled\">\n",
       "<li><a class=\"text-small\" href=\"/for-media-companies\">For Media Companies</a></li>\n",
       "<li><a class=\"text-small\" href=\"https://www.passiton-media.com\">Broadcast Quality PSA Downloads</a></li>\n",
       "<li><a class=\"text-small\" href=\"https://www.passiton-media.com\">Pass It On Radio Ads</a></li>\n",
       "<li><a class=\"text-small\" href=\"https://www.passiton-media.com\">Live Reads</a></li>\n",
       "<li><a class=\"text-small\" href=\"https://www.passiton-media.com\">Out of Home Materials</a></li>\n",
       "</ul>\n",
       "<div class=\"row sm-margin-30px-top\">\n",
       "<div class=\"col-lg-4\">\n",
       "<a href=\"/\"><img alt=\"Values logo\" src=\"/assets/site/values_logo-cd29ec5f2f086673ac42962263d07e02.png\" style=\"max-width: 70px;\"/></a>\n",
       "</div>\n",
       "<div class=\"col-lg-7\">\n",
       "<p class=\"text-medium-gray text-small padding-10px-top\">VALUES.COM<small>®</small> is now PassItOn.com<small>®</small></p>\n",
       "</div>\n",
       "</div>\n",
       "</div>\n",
       "</div>\n",
       "</div>\n",
       "</div>\n",
       "<div class=\"container\">\n",
       "<div class=\"footer-bottom border-top border-color-medium-dark-gray padding-30px-top\">\n",
       "<div class=\"row\">\n",
       "<div class=\"col-lg-6 col-md-6 text-small text-md-left text-center\">©2000-2020 The Foundation for a Better Life.</div>\n",
       "<div class=\"col-lg-6 col-md-6 text-small text-md-right text-center\"><a href=\"/privacy-policy\">Privacy Policy</a>   |   <a href=\"/terms-of-use\">Terms of Use</a></div>\n",
       "</div>\n",
       "</div>\n",
       "</div>\n",
       "</footer>\n",
       "<a class=\"scroll-top-arrow\" href=\"javascript:void(0);\"><i class=\"ti-arrow-up\"></i></a>\n",
       "<script src=\"https://cdnjs.cloudflare.com/ajax/libs/jquery/1.12.4/jquery.js\"></script>\n",
       "<script crossorigin=\"anonymous\" integrity=\"sha384-UO2eT0CpHqdSJQ6hJty5KVphtPhzWj9WO1clHTMGa3JDZwrnQq4sF86dIHNDz0W1\" src=\"https://cdnjs.cloudflare.com/ajax/libs/popper.js/1.14.7/umd/popper.min.js\"></script>\n",
       "<script crossorigin=\"anonymous\" integrity=\"sha384-JjSmVgyd0p3pXB1rRibZUAYoIIy6OrQ6VrjIEaFf/nJGzIxFDsf4x0xIM+B07jRM\" src=\"https://stackpath.bootstrapcdn.com/bootstrap/4.3.1/js/bootstrap.min.js\"></script>\n",
       "<script src=\"/assets/pofo-3d0d89a27285d93c09e0f4c1fc85cead.js\"></script>\n",
       "</body>\n",
       "</html>>"
      ]
     },
     "execution_count": 239,
     "metadata": {},
     "output_type": "execute_result"
    }
   ],
   "source": [
    "soup.prettify"
   ]
  },
  {
   "cell_type": "code",
   "execution_count": 240,
   "metadata": {},
   "outputs": [
    {
     "data": {
      "text/plain": [
       "<title>Inspirational Quotes - Motivational Quotes - Leadership Quotes | Page 2 | PassItOn.com</title>"
      ]
     },
     "execution_count": 240,
     "metadata": {},
     "output_type": "execute_result"
    }
   ],
   "source": [
    "soup.title"
   ]
  },
  {
   "cell_type": "code",
   "execution_count": 241,
   "metadata": {},
   "outputs": [
    {
     "data": {
      "text/plain": [
       "'Inspirational Quotes - Motivational Quotes - Leadership Quotes | Page 2 | PassItOn.com'"
      ]
     },
     "execution_count": 241,
     "metadata": {},
     "output_type": "execute_result"
    }
   ],
   "source": [
    "soup.title.string"
   ]
  },
  {
   "cell_type": "code",
   "execution_count": 242,
   "metadata": {},
   "outputs": [
    {
     "data": {
      "text/plain": [
       "<a class=\"logo\" href=\"/\" title=\"Pass It On®\"><img alt=\"Pass It On\" class=\"logo-dark\" data-rjs=\"/assets/site/logo@2x-77b9f4fa1e4bafa6ff119f8f162b7bd9.png\" src=\"/assets/site/logo-6d680decaadef58e4fbb586e147bc135.png\"/><img alt=\"Pass It On\" class=\"logo-light default\" data-rjs=\"/assets/site/logo-white@2x-82bf2486063a48e9207811cc7f6d5e5f.png\" src=\"/assets/site/logo-white-2d99f390ad2f6d3bbf59a52aadb55d60.png\"/></a>"
      ]
     },
     "execution_count": 242,
     "metadata": {},
     "output_type": "execute_result"
    }
   ],
   "source": [
    "soup.a\n",
    "# gave only the first anchor tag"
   ]
  },
  {
   "cell_type": "code",
   "execution_count": 243,
   "metadata": {},
   "outputs": [
    {
     "data": {
      "text/plain": [
       "[<img alt=\"Pass It On\" class=\"logo-dark\" data-rjs=\"/assets/site/logo@2x-77b9f4fa1e4bafa6ff119f8f162b7bd9.png\" src=\"/assets/site/logo-6d680decaadef58e4fbb586e147bc135.png\"/>,\n",
       " <img alt=\"Pass It On\" class=\"logo-light default\" data-rjs=\"/assets/site/logo-white@2x-82bf2486063a48e9207811cc7f6d5e5f.png\" src=\"/assets/site/logo-white-2d99f390ad2f6d3bbf59a52aadb55d60.png\"/>,\n",
       " <img alt=\"Now is no time to think of what you do not have. Think of what you can do with what there is.  #&lt;Author:0x00007f5e90877e18&gt;\" class=\"margin-10px-bottom shadow\" height=\"310\" src=\"https://assets.passiton.com/quotes/quote_artwork/6378/medium/20200520_wednesday_quote.jpg?1589574757\" width=\"310\"/>,\n",
       " <img alt=\"Today I choose to live with gratitude for the love that fills my heart, the peace that rests within my spirit, and the voice of hope that says all things are possible. #&lt;Author:0x00007f5e9089fda0&gt;\" class=\"margin-10px-bottom shadow\" height=\"310\" src=\"https://assets.passiton.com/quotes/quote_artwork/8072/medium/20200519_tuesday_quote.jpg?1589574728\" width=\"310\"/>,\n",
       " <img alt=\"If you concentrate on finding whatever is good in every situation, you will discover that your life will suddenly be filled with gratitude, a feeling that nurtures the soul. #&lt;Author:0x00007f5e908c5d48&gt;\" class=\"margin-10px-bottom shadow\" height=\"310\" src=\"https://assets.passiton.com/quotes/quote_artwork/8071/medium/20200518_monday_quote.jpg?1589574705\" width=\"310\"/>,\n",
       " <img alt=\"It is literally true that you can succeed best and quickest by helping others to succeed. #&lt;Author:0x00007f5e908f2b18&gt;\" class=\"margin-10px-bottom shadow\" height=\"310\" src=\"https://assets.passiton.com/quotes/quote_artwork/8070/medium/20200515_friday_quote.jpg?1588967471\" width=\"310\"/>,\n",
       " <img alt=\"The way a team plays as a whole determines its success. You may have the greatest bunch of individual stars in the world, but if they don't play together, the club won't be worth a dime. #&lt;Author:0x00007f5e90917800&gt;\" class=\"margin-10px-bottom shadow\" height=\"310\" src=\"https://assets.passiton.com/quotes/quote_artwork/5429/medium/20200514_thursday_quote.jpg?1588967448\" width=\"310\"/>,\n",
       " <img alt=\"Never doubt that a small group of thoughtful, committed citizens can change the world; indeed, it’s the only thing that ever has. #&lt;Author:0x00007f5e90943068&gt;\" class=\"margin-10px-bottom shadow\" height=\"310\" src=\"https://assets.passiton.com/quotes/quote_artwork/7245/medium/20200513_wednesday_quote.jpg?1588967426\" width=\"310\"/>,\n",
       " <img alt=\"Cooperation is the thorough conviction that nobody can get there unless everybody gets there. #&lt;Author:0x00007f5e9095c6a8&gt;\" class=\"margin-10px-bottom shadow\" height=\"310\" src=\"https://assets.passiton.com/quotes/quote_artwork/5572/medium/20200512_tuesday_quote.jpg?1588967401\" width=\"310\"/>,\n",
       " <img alt=\"One person seeking glory doesn't accomplish much. Success is the result of people pulling together to meet common goals. #&lt;Author:0x00007f5e9098a3c8&gt;\" class=\"margin-10px-bottom shadow\" height=\"310\" src=\"https://assets.passiton.com/quotes/quote_artwork/8069/medium/20200511_monday_quote.jpg?1588967374\" width=\"310\"/>,\n",
       " <img alt=\"You can always, always give something, even if it is only kindness! #&lt;Author:0x00007f5e909a4638&gt;\" class=\"margin-10px-bottom shadow\" height=\"310\" src=\"https://assets.passiton.com/quotes/quote_artwork/8067/medium/20200508_friday_quote.jpg?1588365422\" width=\"310\"/>,\n",
       " <img alt=\"Kindness is the mark we leave on the world. #&lt;Author:0x00007f5e909cda10&gt;\" class=\"margin-10px-bottom shadow\" height=\"310\" src=\"https://assets.passiton.com/quotes/quote_artwork/8068/medium/20200507_thursday_quote_alternate.jpg?1588368026\" width=\"310\"/>,\n",
       " <img alt=\"Love and kindness are never wasted. They always make a difference. They bless the one who receives them, and they bless you, the giver. #&lt;Author:0x00007f5e909f7a68&gt;\" class=\"margin-10px-bottom shadow\" height=\"310\" src=\"https://assets.passiton.com/quotes/quote_artwork/8066/medium/20200506_wednesday_quote.jpg?1588365394\" width=\"310\"/>,\n",
       " <img alt=\"You can accomplish by kindness what you cannot by force. #&lt;Author:0x00007f5e90a12548&gt;\" class=\"margin-10px-bottom shadow\" height=\"310\" src=\"https://assets.passiton.com/quotes/quote_artwork/8065/medium/20200505_tuesday_quote.jpg?1588365360\" width=\"310\"/>,\n",
       " <img alt=\"Unexpected kindness is the most powerful, least costly, and most underrated agent of human change. #&lt;Author:0x00007f5e90a350c0&gt;\" class=\"margin-10px-bottom shadow\" height=\"310\" src=\"https://assets.passiton.com/quotes/quote_artwork/7838/medium/20200504_monday_quote.jpg?1588365331\" width=\"310\"/>,\n",
       " <img alt=\"You may encounter many defeats, but you must not be defeated. In fact, it may be necessary to encounter the defeats, so you can know who you are, what you can rise from, how you can still come out of it. #&lt;Author:0x00007f5e90a62160&gt;\" class=\"margin-10px-bottom shadow\" height=\"310\" src=\"https://assets.passiton.com/quotes/quote_artwork/7410/medium/20200501_friday_quote.jpg?1587752957\" width=\"310\"/>,\n",
       " <img alt=\"Your attitude towards problems, difficulties, and adversities is the most important factor in overcoming them. #&lt;Author:0x00007f5e90a8bdf8&gt;\" class=\"margin-10px-bottom shadow\" height=\"310\" src=\"https://assets.passiton.com/quotes/quote_artwork/8064/medium/20200430_thursday_quote.jpg?1587752929\" width=\"310\"/>,\n",
       " <img alt=\"When you get in a tight place and everything goes against you, till it seems as though you could not hold on a minute longer, never give up then, for that is just the place and time that the tide will turn. #&lt;Author:0x00007f5e90acd500&gt;\" class=\"margin-10px-bottom shadow\" height=\"310\" src=\"https://assets.passiton.com/quotes/quote_artwork/5390/medium/20200429_wednesday_quote.jpg?1587752872\" width=\"310\"/>,\n",
       " <img alt=\"Success is to be measured not so much by the position that one has reached in life as by the obstacles which they have overcome. #&lt;Author:0x00007f5e90b29a58&gt;\" class=\"margin-10px-bottom shadow\" height=\"310\" src=\"https://assets.passiton.com/quotes/quote_artwork/7681/medium/20200428_tuesday_quote_alternate.jpg?1587761536\" width=\"310\"/>,\n",
       " <img alt=\"Strength doesn't come from what you can do. It comes from overcoming the things you once thought you couldn't. #&lt;Author:0x00007f5e90b44038&gt;\" class=\"margin-10px-bottom shadow\" height=\"310\" src=\"https://assets.passiton.com/quotes/quote_artwork/8063/medium/20200427_monday_quote.jpg?1587752821\" width=\"310\"/>,\n",
       " <img alt=\"Hope begins in the dark, the stubborn hope that if you just show up and try to do the right thing, the dawn will come. You wait and watch and work: you don't give up. #&lt;Author:0x00007f5e90b91630&gt;\" class=\"margin-10px-bottom shadow\" height=\"310\" src=\"https://assets.passiton.com/quotes/quote_artwork/7175/medium/20200424_friday_quote.jpg?1587169105\" width=\"310\"/>,\n",
       " <img alt=\"Let your hopes, not your hurts, shape your future. #&lt;Author:0x00007f5e90bba468&gt;\" class=\"margin-10px-bottom shadow\" height=\"310\" src=\"https://assets.passiton.com/quotes/quote_artwork/7580/medium/20200423_thursday_quote.jpg?1587169080\" width=\"310\"/>,\n",
       " <img alt=\"Hope is not pretending that troubles don't exist. It is the hope that they won't last forever. That hurts will be healed and difficulties overcome. That we will be led out of the darkness and into the sunshine. #&lt;Author:0x00007f5e90be3d90&gt;\" class=\"margin-10px-bottom shadow\" height=\"310\" src=\"https://assets.passiton.com/quotes/quote_artwork/4818/medium/20200422_wednesday_quote.jpg?1587169052\" width=\"310\"/>,\n",
       " <img alt=\"They say a person needs just three things to be happy in this world: someone to love, something to do, and something to hope for. #&lt;Author:0x00007f5e90c00c60&gt;\" class=\"margin-10px-bottom shadow\" height=\"310\" src=\"https://assets.passiton.com/quotes/quote_artwork/8062/medium/20200421_tuesday_quote.jpg?1587228038\" width=\"310\"/>,\n",
       " <img alt=\"Hope is important because it can make the present moment less difficult to bear. If we believe that tomorrow will be better, we can bear a hardship today. #&lt;Author:0x00007f5e90c24d68&gt;\" class=\"margin-10px-bottom shadow\" height=\"310\" src=\"https://assets.passiton.com/quotes/quote_artwork/8061/medium/20200420_monday_quote.jpg?1587168982\" width=\"310\"/>,\n",
       " <img alt=\"Courage doesn't always roar. Sometimes courage is the little voice at the end of the day that says I'll try again tomorrow. #&lt;Author:0x00007f5e90caba70&gt;\" class=\"margin-10px-bottom shadow\" height=\"310\" src=\"https://assets.passiton.com/quotes/quote_artwork/7300/medium/20200417_friday_quote.jpg?1586626081\" width=\"310\"/>,\n",
       " <img alt=\"Courage is contagious. Every time we choose courage, we make everyone around us a little better and the world a little braver. #&lt;Author:0x00007f5e90cc01a0&gt;\" class=\"margin-10px-bottom shadow\" height=\"310\" src=\"https://assets.passiton.com/quotes/quote_artwork/8059/medium/20200416_thursday_quote.jpg?1586626047\" width=\"310\"/>,\n",
       " <img alt=\"If the world is to be healed through human efforts, I am convinced it will be by ordinary people, people whose love for this life is even greater than their fear.  #&lt;Author:0x00007f5e90d4f328&gt;\" class=\"margin-10px-bottom shadow\" height=\"310\" src=\"https://assets.passiton.com/quotes/quote_artwork/6173/medium/20200415_wednesday_quote.jpg?1586626019\" width=\"310\"/>,\n",
       " <img alt=\"Courage is the most important of all the virtues because without courage, you can't practice any other virtue consistently. #&lt;Author:0x00007f5e90d86fa8&gt;\" class=\"margin-10px-bottom shadow\" height=\"310\" src=\"https://assets.passiton.com/quotes/quote_artwork/8060/medium/20200414_tuesday_quote.jpg?1586626879\" width=\"310\"/>,\n",
       " <img alt=\"Courage is what it takes to stand up and speak; courage is also what it takes to sit down and listen. #&lt;Author:0x00007f5e90da9828&gt;\" class=\"margin-10px-bottom shadow\" height=\"310\" src=\"https://assets.passiton.com/quotes/quote_artwork/7302/medium/20200413_monday_quote.jpg?1586625965\" width=\"310\"/>,\n",
       " <img alt=\"Our true work is not our job, that is what we do, not what we were created to do. Our true work is to look after each other, to protect each other and to be of benefit to one another. #&lt;Author:0x00007f5e90dc5938&gt;\" class=\"margin-10px-bottom shadow\" height=\"310\" src=\"https://assets.passiton.com/quotes/quote_artwork/8057/medium/20200410_friday_quote.jpg?1585942901\" width=\"310\"/>,\n",
       " <img alt=\"In the time we have it is surely our duty to do all the good we can to all the people we can in all the ways we can.  #&lt;Author:0x00007f5e90de5558&gt;\" class=\"margin-10px-bottom shadow\" height=\"310\" src=\"https://assets.passiton.com/quotes/quote_artwork/7088/medium/20200409_thursday_quote.jpg?1585942860\" width=\"310\"/>,\n",
       " <img alt=\"To help yourself, help others. Whatever good you do travels a circle and returns to you many times over- but remember, life isn't about what you get, it's about what you become. #&lt;Author:0x00007f5e90e09d90&gt;\" class=\"margin-10px-bottom shadow\" height=\"310\" src=\"https://assets.passiton.com/quotes/quote_artwork/7014/medium/20200408_wednesday_quote.jpg?1585942830\" width=\"310\"/>,\n",
       " <img alt=\"Great opportunities to help others seldom come, but small ones surround us every day. #&lt;Author:0x00007f5e90e7c3e0&gt;\" class=\"margin-10px-bottom shadow\" height=\"310\" src=\"https://assets.passiton.com/quotes/quote_artwork/3700/medium/20200407_tuesday_quote.jpg?1585942776\" width=\"310\"/>,\n",
       " <img alt=\"The Foundation for a Better Life\" class=\"footer-logo\" data-rjs=\"/assets/site/fbl_logo-b50da7cb3567063fca4dec74f28f07c4.png\" src=\"/assets/site/fbl_logo-b50da7cb3567063fca4dec74f28f07c4.png\"/>,\n",
       " <img alt=\"Values logo\" src=\"/assets/site/values_logo-cd29ec5f2f086673ac42962263d07e02.png\" style=\"max-width: 70px;\"/>]"
      ]
     },
     "execution_count": 243,
     "metadata": {},
     "output_type": "execute_result"
    }
   ],
   "source": [
    "# inorder to get all anchor tags\n",
    "soup.find_all(\"img\")"
   ]
  },
  {
   "cell_type": "code",
   "execution_count": 244,
   "metadata": {},
   "outputs": [],
   "source": [
    "all_image = soup.find_all(\"img\")"
   ]
  },
  {
   "cell_type": "code",
   "execution_count": 245,
   "metadata": {},
   "outputs": [
    {
     "data": {
      "text/plain": [
       "'/assets/site/logo-6d680decaadef58e4fbb586e147bc135.png'"
      ]
     },
     "execution_count": 245,
     "metadata": {},
     "output_type": "execute_result"
    }
   ],
   "source": [
    "all_image[0]['src']"
   ]
  },
  {
   "cell_type": "code",
   "execution_count": 246,
   "metadata": {},
   "outputs": [
    {
     "name": "stdout",
     "output_type": "stream",
     "text": [
      "https://assets.passiton.com/quotes/quote_artwork/6378/medium/20200520_wednesday_quote.jpg?1589574757\n",
      "https://assets.passiton.com/quotes/quote_artwork/8072/medium/20200519_tuesday_quote.jpg?1589574728\n",
      "https://assets.passiton.com/quotes/quote_artwork/8071/medium/20200518_monday_quote.jpg?1589574705\n",
      "https://assets.passiton.com/quotes/quote_artwork/8070/medium/20200515_friday_quote.jpg?1588967471\n",
      "https://assets.passiton.com/quotes/quote_artwork/5429/medium/20200514_thursday_quote.jpg?1588967448\n",
      "https://assets.passiton.com/quotes/quote_artwork/7245/medium/20200513_wednesday_quote.jpg?1588967426\n",
      "https://assets.passiton.com/quotes/quote_artwork/5572/medium/20200512_tuesday_quote.jpg?1588967401\n",
      "https://assets.passiton.com/quotes/quote_artwork/8069/medium/20200511_monday_quote.jpg?1588967374\n",
      "https://assets.passiton.com/quotes/quote_artwork/8067/medium/20200508_friday_quote.jpg?1588365422\n",
      "https://assets.passiton.com/quotes/quote_artwork/8068/medium/20200507_thursday_quote_alternate.jpg?1588368026\n",
      "https://assets.passiton.com/quotes/quote_artwork/8066/medium/20200506_wednesday_quote.jpg?1588365394\n",
      "https://assets.passiton.com/quotes/quote_artwork/8065/medium/20200505_tuesday_quote.jpg?1588365360\n",
      "https://assets.passiton.com/quotes/quote_artwork/7838/medium/20200504_monday_quote.jpg?1588365331\n",
      "https://assets.passiton.com/quotes/quote_artwork/7410/medium/20200501_friday_quote.jpg?1587752957\n",
      "https://assets.passiton.com/quotes/quote_artwork/8064/medium/20200430_thursday_quote.jpg?1587752929\n",
      "https://assets.passiton.com/quotes/quote_artwork/5390/medium/20200429_wednesday_quote.jpg?1587752872\n",
      "https://assets.passiton.com/quotes/quote_artwork/7681/medium/20200428_tuesday_quote_alternate.jpg?1587761536\n",
      "https://assets.passiton.com/quotes/quote_artwork/8063/medium/20200427_monday_quote.jpg?1587752821\n",
      "https://assets.passiton.com/quotes/quote_artwork/7175/medium/20200424_friday_quote.jpg?1587169105\n",
      "https://assets.passiton.com/quotes/quote_artwork/7580/medium/20200423_thursday_quote.jpg?1587169080\n",
      "https://assets.passiton.com/quotes/quote_artwork/4818/medium/20200422_wednesday_quote.jpg?1587169052\n",
      "https://assets.passiton.com/quotes/quote_artwork/8062/medium/20200421_tuesday_quote.jpg?1587228038\n",
      "https://assets.passiton.com/quotes/quote_artwork/8061/medium/20200420_monday_quote.jpg?1587168982\n",
      "https://assets.passiton.com/quotes/quote_artwork/7300/medium/20200417_friday_quote.jpg?1586626081\n",
      "https://assets.passiton.com/quotes/quote_artwork/8059/medium/20200416_thursday_quote.jpg?1586626047\n",
      "https://assets.passiton.com/quotes/quote_artwork/6173/medium/20200415_wednesday_quote.jpg?1586626019\n",
      "https://assets.passiton.com/quotes/quote_artwork/8060/medium/20200414_tuesday_quote.jpg?1586626879\n",
      "https://assets.passiton.com/quotes/quote_artwork/7302/medium/20200413_monday_quote.jpg?1586625965\n",
      "https://assets.passiton.com/quotes/quote_artwork/8057/medium/20200410_friday_quote.jpg?1585942901\n",
      "https://assets.passiton.com/quotes/quote_artwork/7088/medium/20200409_thursday_quote.jpg?1585942860\n",
      "https://assets.passiton.com/quotes/quote_artwork/7014/medium/20200408_wednesday_quote.jpg?1585942830\n",
      "https://assets.passiton.com/quotes/quote_artwork/3700/medium/20200407_tuesday_quote.jpg?1585942776\n"
     ]
    }
   ],
   "source": [
    "for i in all_image:\n",
    "    link = i['src']\n",
    "    if link.find(\"https\") == -1 :\n",
    "# == - 1 means false i.e. a fault link\n",
    "        continue\n",
    "    else:\n",
    "        print(link)"
   ]
  },
  {
   "cell_type": "code",
   "execution_count": 247,
   "metadata": {},
   "outputs": [
    {
     "name": "stdout",
     "output_type": "stream",
     "text": [
      "https://assets.passiton.com/quotes/quote_artwork/8071/medium/20200518_monday_quote.jpg?1589574705\n",
      "https://assets.passiton.com/quotes/quote_artwork/8069/medium/20200511_monday_quote.jpg?1588967374\n",
      "https://assets.passiton.com/quotes/quote_artwork/7838/medium/20200504_monday_quote.jpg?1588365331\n",
      "https://assets.passiton.com/quotes/quote_artwork/8063/medium/20200427_monday_quote.jpg?1587752821\n",
      "https://assets.passiton.com/quotes/quote_artwork/8061/medium/20200420_monday_quote.jpg?1587168982\n",
      "https://assets.passiton.com/quotes/quote_artwork/7302/medium/20200413_monday_quote.jpg?1586625965\n"
     ]
    }
   ],
   "source": [
    "count = 1\n",
    "for i in all_image:\n",
    "    link = i['src']\n",
    "    if link.find(\"https\") != -1 and link.find(\"monday\")!= -1:\n",
    "        print(link)\n",
    "        data = requests.get(link)\n",
    "        with open(\"{}.jpg\".format(count),\"wb\") as f:\n",
    "            f.write(data.content)\n",
    "        count = count+1\n",
    "# by above requests link appears one by one\n",
    "# get those content from data and print"
   ]
  },
  {
   "cell_type": "code",
   "execution_count": null,
   "metadata": {},
   "outputs": [],
   "source": []
  }
 ],
 "metadata": {
  "kernelspec": {
   "display_name": "Python 3",
   "language": "python",
   "name": "python3"
  },
  "language_info": {
   "codemirror_mode": {
    "name": "ipython",
    "version": 3
   },
   "file_extension": ".py",
   "mimetype": "text/x-python",
   "name": "python",
   "nbconvert_exporter": "python",
   "pygments_lexer": "ipython3",
   "version": "3.7.3"
  }
 },
 "nbformat": 4,
 "nbformat_minor": 2
}
